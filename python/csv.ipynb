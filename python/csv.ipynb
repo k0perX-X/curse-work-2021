{
 "cells": [
  {
   "cell_type": "code",
   "execution_count": 9,
   "metadata": {
    "collapsed": true
   },
   "outputs": [],
   "source": [
    "import eventlet\n",
    "import pandas as pd\n",
    "from multiprocessing.dummy import Pool as ThreadPool\n",
    "import requests\n",
    "import lxml\n",
    "from lxml import etree\n",
    "from geopy.geocoders import Nominatim\n",
    "import geopy\n",
    "import pgeocode\n",
    "import wikipediaapi\n"
   ]
  },
  {
   "cell_type": "code",
   "execution_count": 10,
   "outputs": [],
   "source": [
    "df = pd.read_csv('Database/Russian_cities.csv', dtype=str)\n",
    "del df['Unnamed: 0']\n",
    "df = df.loc[df['City'] != 'Щелкино']\n",
    "df = df.reset_index(drop=True)"
   ],
   "metadata": {
    "collapsed": false,
    "pycharm": {
     "name": "#%%\n"
    }
   }
  },
  {
   "cell_type": "code",
   "execution_count": 11,
   "outputs": [
    {
     "data": {
      "text/plain": "     Letter         City Population\n0         а    Астрахань     529793\n1         а  Архангельск     346979\n2         а      Ангарск     224630\n3         а      Армавир     188960\n4         а       Абакан     186797\n...     ...          ...        ...\n1099      я       Яранск      15475\n1100      я    Ясногорск      15410\n1101      я        Ясный      15249\n1102      я       Яхрома      14056\n1103      я        Ядрин       8170\n\n[1104 rows x 3 columns]",
      "text/html": "<div>\n<style scoped>\n    .dataframe tbody tr th:only-of-type {\n        vertical-align: middle;\n    }\n\n    .dataframe tbody tr th {\n        vertical-align: top;\n    }\n\n    .dataframe thead th {\n        text-align: right;\n    }\n</style>\n<table border=\"1\" class=\"dataframe\">\n  <thead>\n    <tr style=\"text-align: right;\">\n      <th></th>\n      <th>Letter</th>\n      <th>City</th>\n      <th>Population</th>\n    </tr>\n  </thead>\n  <tbody>\n    <tr>\n      <th>0</th>\n      <td>а</td>\n      <td>Астрахань</td>\n      <td>529793</td>\n    </tr>\n    <tr>\n      <th>1</th>\n      <td>а</td>\n      <td>Архангельск</td>\n      <td>346979</td>\n    </tr>\n    <tr>\n      <th>2</th>\n      <td>а</td>\n      <td>Ангарск</td>\n      <td>224630</td>\n    </tr>\n    <tr>\n      <th>3</th>\n      <td>а</td>\n      <td>Армавир</td>\n      <td>188960</td>\n    </tr>\n    <tr>\n      <th>4</th>\n      <td>а</td>\n      <td>Абакан</td>\n      <td>186797</td>\n    </tr>\n    <tr>\n      <th>...</th>\n      <td>...</td>\n      <td>...</td>\n      <td>...</td>\n    </tr>\n    <tr>\n      <th>1099</th>\n      <td>я</td>\n      <td>Яранск</td>\n      <td>15475</td>\n    </tr>\n    <tr>\n      <th>1100</th>\n      <td>я</td>\n      <td>Ясногорск</td>\n      <td>15410</td>\n    </tr>\n    <tr>\n      <th>1101</th>\n      <td>я</td>\n      <td>Ясный</td>\n      <td>15249</td>\n    </tr>\n    <tr>\n      <th>1102</th>\n      <td>я</td>\n      <td>Яхрома</td>\n      <td>14056</td>\n    </tr>\n    <tr>\n      <th>1103</th>\n      <td>я</td>\n      <td>Ядрин</td>\n      <td>8170</td>\n    </tr>\n  </tbody>\n</table>\n<p>1104 rows × 3 columns</p>\n</div>"
     },
     "execution_count": 11,
     "metadata": {},
     "output_type": "execute_result"
    }
   ],
   "source": [
    "df"
   ],
   "metadata": {
    "collapsed": false,
    "pycharm": {
     "name": "#%%\n"
    }
   }
  },
  {
   "cell_type": "code",
   "execution_count": 12,
   "outputs": [
    {
     "data": {
      "text/plain": "     Letter         City Population  \\\n0         а    Астрахань     529793   \n1         а  Архангельск     346979   \n2         а      Ангарск     224630   \n3         а      Армавир     188960   \n4         а       Абакан     186797   \n...     ...          ...        ...   \n1099      я       Яранск      15475   \n1100      я    Ясногорск      15410   \n1101      я        Ясный      15249   \n1102      я       Яхрома      14056   \n1103      я        Ядрин       8170   \n\n                                        GoogleUrl  \\\n0       https://www.google.com/search?q=Астрахань   \n1     https://www.google.com/search?q=Архангельск   \n2         https://www.google.com/search?q=Ангарск   \n3         https://www.google.com/search?q=Армавир   \n4          https://www.google.com/search?q=Абакан   \n...                                           ...   \n1099       https://www.google.com/search?q=Яранск   \n1100    https://www.google.com/search?q=Ясногорск   \n1101        https://www.google.com/search?q=Ясный   \n1102       https://www.google.com/search?q=Яхрома   \n1103        https://www.google.com/search?q=Ядрин   \n\n                                       YandexUrl  \n0       https://yandex.ru/search/?text=Астрахань  \n1     https://yandex.ru/search/?text=Архангельск  \n2         https://yandex.ru/search/?text=Ангарск  \n3         https://yandex.ru/search/?text=Армавир  \n4          https://yandex.ru/search/?text=Абакан  \n...                                          ...  \n1099       https://yandex.ru/search/?text=Яранск  \n1100    https://yandex.ru/search/?text=Ясногорск  \n1101        https://yandex.ru/search/?text=Ясный  \n1102       https://yandex.ru/search/?text=Яхрома  \n1103        https://yandex.ru/search/?text=Ядрин  \n\n[1104 rows x 5 columns]",
      "text/html": "<div>\n<style scoped>\n    .dataframe tbody tr th:only-of-type {\n        vertical-align: middle;\n    }\n\n    .dataframe tbody tr th {\n        vertical-align: top;\n    }\n\n    .dataframe thead th {\n        text-align: right;\n    }\n</style>\n<table border=\"1\" class=\"dataframe\">\n  <thead>\n    <tr style=\"text-align: right;\">\n      <th></th>\n      <th>Letter</th>\n      <th>City</th>\n      <th>Population</th>\n      <th>GoogleUrl</th>\n      <th>YandexUrl</th>\n    </tr>\n  </thead>\n  <tbody>\n    <tr>\n      <th>0</th>\n      <td>а</td>\n      <td>Астрахань</td>\n      <td>529793</td>\n      <td>https://www.google.com/search?q=Астрахань</td>\n      <td>https://yandex.ru/search/?text=Астрахань</td>\n    </tr>\n    <tr>\n      <th>1</th>\n      <td>а</td>\n      <td>Архангельск</td>\n      <td>346979</td>\n      <td>https://www.google.com/search?q=Архангельск</td>\n      <td>https://yandex.ru/search/?text=Архангельск</td>\n    </tr>\n    <tr>\n      <th>2</th>\n      <td>а</td>\n      <td>Ангарск</td>\n      <td>224630</td>\n      <td>https://www.google.com/search?q=Ангарск</td>\n      <td>https://yandex.ru/search/?text=Ангарск</td>\n    </tr>\n    <tr>\n      <th>3</th>\n      <td>а</td>\n      <td>Армавир</td>\n      <td>188960</td>\n      <td>https://www.google.com/search?q=Армавир</td>\n      <td>https://yandex.ru/search/?text=Армавир</td>\n    </tr>\n    <tr>\n      <th>4</th>\n      <td>а</td>\n      <td>Абакан</td>\n      <td>186797</td>\n      <td>https://www.google.com/search?q=Абакан</td>\n      <td>https://yandex.ru/search/?text=Абакан</td>\n    </tr>\n    <tr>\n      <th>...</th>\n      <td>...</td>\n      <td>...</td>\n      <td>...</td>\n      <td>...</td>\n      <td>...</td>\n    </tr>\n    <tr>\n      <th>1099</th>\n      <td>я</td>\n      <td>Яранск</td>\n      <td>15475</td>\n      <td>https://www.google.com/search?q=Яранск</td>\n      <td>https://yandex.ru/search/?text=Яранск</td>\n    </tr>\n    <tr>\n      <th>1100</th>\n      <td>я</td>\n      <td>Ясногорск</td>\n      <td>15410</td>\n      <td>https://www.google.com/search?q=Ясногорск</td>\n      <td>https://yandex.ru/search/?text=Ясногорск</td>\n    </tr>\n    <tr>\n      <th>1101</th>\n      <td>я</td>\n      <td>Ясный</td>\n      <td>15249</td>\n      <td>https://www.google.com/search?q=Ясный</td>\n      <td>https://yandex.ru/search/?text=Ясный</td>\n    </tr>\n    <tr>\n      <th>1102</th>\n      <td>я</td>\n      <td>Яхрома</td>\n      <td>14056</td>\n      <td>https://www.google.com/search?q=Яхрома</td>\n      <td>https://yandex.ru/search/?text=Яхрома</td>\n    </tr>\n    <tr>\n      <th>1103</th>\n      <td>я</td>\n      <td>Ядрин</td>\n      <td>8170</td>\n      <td>https://www.google.com/search?q=Ядрин</td>\n      <td>https://yandex.ru/search/?text=Ядрин</td>\n    </tr>\n  </tbody>\n</table>\n<p>1104 rows × 5 columns</p>\n</div>"
     },
     "execution_count": 12,
     "metadata": {},
     "output_type": "execute_result"
    }
   ],
   "source": [
    "a = []\n",
    "b = []\n",
    "c = []\n",
    "for i in df['City']:\n",
    "    a.append(f\"https://www.google.com/search?q={i.replace(' ', '+')}\")\n",
    "    b.append(f\"https://yandex.ru/search/?text={i.replace(' ', '+')}\")\n",
    "    c.append(f\"https://ru.wikipedia.org/wiki/{i.replace(' ', '_')}\")\n",
    "\n",
    "a = pd.Series(a, name='GoogleUrl')\n",
    "b = pd.Series(b, name='YandexUrl')\n",
    "df = pd.concat([df, a], axis=1)\n",
    "df = pd.concat([df, b], axis=1)\n",
    "df"
   ],
   "metadata": {
    "collapsed": false,
    "pycharm": {
     "name": "#%%\n"
    }
   }
  },
  {
   "cell_type": "code",
   "execution_count": 13,
   "outputs": [],
   "source": [
    "def checkurl(url):\n",
    "    tf = True\n",
    "    s = requests.get(url).text\n",
    "    page = lxml.etree.fromstring(s, parser=lxml.etree.HTMLParser())\n",
    "    for i in page.xpath('//*[@id=\"noarticletext\"]/p'):\n",
    "        s = ''.join(i.itertext())\n",
    "        if 'нет статьи' in s:\n",
    "            print(url + '\\n', end='')\n",
    "            tf = False\n",
    "    if tf:\n",
    "        return url\n",
    "# pool = ThreadPool(20)\n",
    "# results = list(pool.map(checkurl, c))\n",
    "results = c\n",
    "# results = list(map(checkurl, c))\n",
    "\n",
    "# results"
   ],
   "metadata": {
    "collapsed": false,
    "pycharm": {
     "name": "#%%\n"
    }
   }
  },
  {
   "cell_type": "code",
   "execution_count": 14,
   "outputs": [
    {
     "data": {
      "text/plain": "     Letter         City Population  \\\n0         а    Астрахань     529793   \n1         а  Архангельск     346979   \n2         а      Ангарск     224630   \n3         а      Армавир     188960   \n4         а       Абакан     186797   \n...     ...          ...        ...   \n1099      я       Яранск      15475   \n1100      я    Ясногорск      15410   \n1101      я        Ясный      15249   \n1102      я       Яхрома      14056   \n1103      я        Ядрин       8170   \n\n                                        GoogleUrl  \\\n0       https://www.google.com/search?q=Астрахань   \n1     https://www.google.com/search?q=Архангельск   \n2         https://www.google.com/search?q=Ангарск   \n3         https://www.google.com/search?q=Армавир   \n4          https://www.google.com/search?q=Абакан   \n...                                           ...   \n1099       https://www.google.com/search?q=Яранск   \n1100    https://www.google.com/search?q=Ясногорск   \n1101        https://www.google.com/search?q=Ясный   \n1102       https://www.google.com/search?q=Яхрома   \n1103        https://www.google.com/search?q=Ядрин   \n\n                                       YandexUrl  \\\n0       https://yandex.ru/search/?text=Астрахань   \n1     https://yandex.ru/search/?text=Архангельск   \n2         https://yandex.ru/search/?text=Ангарск   \n3         https://yandex.ru/search/?text=Армавир   \n4          https://yandex.ru/search/?text=Абакан   \n...                                          ...   \n1099       https://yandex.ru/search/?text=Яранск   \n1100    https://yandex.ru/search/?text=Ясногорск   \n1101        https://yandex.ru/search/?text=Ясный   \n1102       https://yandex.ru/search/?text=Яхрома   \n1103        https://yandex.ru/search/?text=Ядрин   \n\n                                        WikiUrl  \n0       https://ru.wikipedia.org/wiki/Астрахань  \n1     https://ru.wikipedia.org/wiki/Архангельск  \n2         https://ru.wikipedia.org/wiki/Ангарск  \n3         https://ru.wikipedia.org/wiki/Армавир  \n4          https://ru.wikipedia.org/wiki/Абакан  \n...                                         ...  \n1099       https://ru.wikipedia.org/wiki/Яранск  \n1100    https://ru.wikipedia.org/wiki/Ясногорск  \n1101        https://ru.wikipedia.org/wiki/Ясный  \n1102       https://ru.wikipedia.org/wiki/Яхрома  \n1103        https://ru.wikipedia.org/wiki/Ядрин  \n\n[1104 rows x 6 columns]",
      "text/html": "<div>\n<style scoped>\n    .dataframe tbody tr th:only-of-type {\n        vertical-align: middle;\n    }\n\n    .dataframe tbody tr th {\n        vertical-align: top;\n    }\n\n    .dataframe thead th {\n        text-align: right;\n    }\n</style>\n<table border=\"1\" class=\"dataframe\">\n  <thead>\n    <tr style=\"text-align: right;\">\n      <th></th>\n      <th>Letter</th>\n      <th>City</th>\n      <th>Population</th>\n      <th>GoogleUrl</th>\n      <th>YandexUrl</th>\n      <th>WikiUrl</th>\n    </tr>\n  </thead>\n  <tbody>\n    <tr>\n      <th>0</th>\n      <td>а</td>\n      <td>Астрахань</td>\n      <td>529793</td>\n      <td>https://www.google.com/search?q=Астрахань</td>\n      <td>https://yandex.ru/search/?text=Астрахань</td>\n      <td>https://ru.wikipedia.org/wiki/Астрахань</td>\n    </tr>\n    <tr>\n      <th>1</th>\n      <td>а</td>\n      <td>Архангельск</td>\n      <td>346979</td>\n      <td>https://www.google.com/search?q=Архангельск</td>\n      <td>https://yandex.ru/search/?text=Архангельск</td>\n      <td>https://ru.wikipedia.org/wiki/Архангельск</td>\n    </tr>\n    <tr>\n      <th>2</th>\n      <td>а</td>\n      <td>Ангарск</td>\n      <td>224630</td>\n      <td>https://www.google.com/search?q=Ангарск</td>\n      <td>https://yandex.ru/search/?text=Ангарск</td>\n      <td>https://ru.wikipedia.org/wiki/Ангарск</td>\n    </tr>\n    <tr>\n      <th>3</th>\n      <td>а</td>\n      <td>Армавир</td>\n      <td>188960</td>\n      <td>https://www.google.com/search?q=Армавир</td>\n      <td>https://yandex.ru/search/?text=Армавир</td>\n      <td>https://ru.wikipedia.org/wiki/Армавир</td>\n    </tr>\n    <tr>\n      <th>4</th>\n      <td>а</td>\n      <td>Абакан</td>\n      <td>186797</td>\n      <td>https://www.google.com/search?q=Абакан</td>\n      <td>https://yandex.ru/search/?text=Абакан</td>\n      <td>https://ru.wikipedia.org/wiki/Абакан</td>\n    </tr>\n    <tr>\n      <th>...</th>\n      <td>...</td>\n      <td>...</td>\n      <td>...</td>\n      <td>...</td>\n      <td>...</td>\n      <td>...</td>\n    </tr>\n    <tr>\n      <th>1099</th>\n      <td>я</td>\n      <td>Яранск</td>\n      <td>15475</td>\n      <td>https://www.google.com/search?q=Яранск</td>\n      <td>https://yandex.ru/search/?text=Яранск</td>\n      <td>https://ru.wikipedia.org/wiki/Яранск</td>\n    </tr>\n    <tr>\n      <th>1100</th>\n      <td>я</td>\n      <td>Ясногорск</td>\n      <td>15410</td>\n      <td>https://www.google.com/search?q=Ясногорск</td>\n      <td>https://yandex.ru/search/?text=Ясногорск</td>\n      <td>https://ru.wikipedia.org/wiki/Ясногорск</td>\n    </tr>\n    <tr>\n      <th>1101</th>\n      <td>я</td>\n      <td>Ясный</td>\n      <td>15249</td>\n      <td>https://www.google.com/search?q=Ясный</td>\n      <td>https://yandex.ru/search/?text=Ясный</td>\n      <td>https://ru.wikipedia.org/wiki/Ясный</td>\n    </tr>\n    <tr>\n      <th>1102</th>\n      <td>я</td>\n      <td>Яхрома</td>\n      <td>14056</td>\n      <td>https://www.google.com/search?q=Яхрома</td>\n      <td>https://yandex.ru/search/?text=Яхрома</td>\n      <td>https://ru.wikipedia.org/wiki/Яхрома</td>\n    </tr>\n    <tr>\n      <th>1103</th>\n      <td>я</td>\n      <td>Ядрин</td>\n      <td>8170</td>\n      <td>https://www.google.com/search?q=Ядрин</td>\n      <td>https://yandex.ru/search/?text=Ядрин</td>\n      <td>https://ru.wikipedia.org/wiki/Ядрин</td>\n    </tr>\n  </tbody>\n</table>\n<p>1104 rows × 6 columns</p>\n</div>"
     },
     "execution_count": 14,
     "metadata": {},
     "output_type": "execute_result"
    }
   ],
   "source": [
    "c = pd.Series(results, name='WikiUrl')\n",
    "df = pd.concat([df, c], axis=1)\n",
    "df\n",
    "# //*[@class=\"infobox\"]/tr[3]/td/span/span/a.href()\n",
    "# //*[@id=\"mw-content-text\"]/div[1]/table[1]/tr[3]/td/span/span/a.href()\n",
    "# //*[@class=\"infobox-image\"]/span/a\n",
    "# //*[@class=\"wikidata-claim\"]/span/a"
   ],
   "metadata": {
    "collapsed": false,
    "pycharm": {
     "name": "#%%\n"
    }
   }
  },
  {
   "cell_type": "code",
   "execution_count": 15,
   "outputs": [],
   "source": [
    "df.loc[df['City'] == 'Алексеевка', 'WikiUrl'] = 'https://ru.wikipedia.org/wiki/Алексеевка_(город,_Белгородская_область)'\n",
    "df.loc[df['City'] == 'Алексеевка', 'GoogleUrl'] = 'https://www.google.com/search?q=Город+Алексеевка+в+Белгородской+области'\n",
    "df.loc[df['City'] == 'Алексеевка', 'YandexUrl'] = 'https://yandex.ru/search/?text=Город+Алексеевка+в+Белгородской+области'\n",
    "\n",
    "df.loc[df['City'] == 'Буй', 'WikiUrl'] = 'https://ru.wikipedia.org/wiki/Буй_(город)'\n",
    "df.loc[df['City'] == 'Буй', 'GoogleUrl'] = 'https://www.google.com/search?q=Буй+город'\n",
    "df.loc[df['City'] == 'Буй', 'YandexUrl'] = 'https://yandex.ru/search/?text=Буй+город'\n",
    "\n",
    "df.loc[df['City'] == 'Калач', 'WikiUrl'] = 'https://ru.wikipedia.org/wiki/Калач_(город)'\n",
    "df.loc[df['City'] == 'Калач', 'GoogleUrl'] = 'https://www.google.com/search?q=Калач+город'\n",
    "df.loc[df['City'] == 'Калач', 'YandexUrl'] = 'https://yandex.ru/search/?text=Калач+город'\n",
    "\n",
    "df.loc[df['City'] == 'Донецк', 'WikiUrl'] = 'https://ru.wikipedia.org/wiki/Донецк_(Россия)'\n",
    "df.loc[df['City'] == 'Донецк', 'GoogleUrl'] = 'https://www.google.com/search?q=Донецк+Россия'\n",
    "df.loc[df['City'] == 'Донецк', 'YandexUrl'] = 'https://yandex.ru/search/?text=Донецк+Россия'\n",
    "\n",
    "df.loc[df['City'] == 'Александровск', 'WikiUrl'] = 'https://ru.wikipedia.org/wiki/Александровск_(Пермский_край)'\n",
    "df.loc[df['City'] == 'Александровск', 'GoogleUrl'] = 'https://www.google.com/search?q=Александровск+Пермский+край'\n",
    "df.loc[df['City'] == 'Александровск', 'YandexUrl'] = 'https://yandex.ru/search/?text=Александровск+Пермский+край'"
   ],
   "metadata": {
    "collapsed": false,
    "pycharm": {
     "name": "#%%\n"
    }
   }
  },
  {
   "cell_type": "code",
   "execution_count": 16,
   "outputs": [],
   "source": [
    "def checkurl(url):\n",
    "    tf = True\n",
    "    s = requests.get(url).text\n",
    "    page = lxml.etree.fromstring(s, parser=lxml.etree.HTMLParser())\n",
    "    if len(page.xpath('//*[@class=\"infobox-image\"]/span/a')) < 1:\n",
    "        if len(page.xpath('//*[@class=\"wikidata-claim\"]/span/a')) < 1:\n",
    "            if len(page.xpath('//*[@class=\"infobox\"]/tr[3]/td/span/span/a')) < 1:\n",
    "                # print(url + '\\n', end='')\n",
    "                return url\n",
    "\n",
    "pool = ThreadPool(15)\n",
    "results = list(pool.map(checkurl, df['WikiUrl']))\n",
    "a = [i for i in results if i is not None]\n"
   ],
   "metadata": {
    "collapsed": false,
    "pycharm": {
     "name": "#%%\n"
    }
   }
  },
  {
   "cell_type": "code",
   "execution_count": 17,
   "outputs": [],
   "source": [
    "b = [i + '_(город)' for i in a]\n",
    "for i, v in enumerate(a):\n",
    "    df.loc[df['WikiUrl'] == v, 'WikiUrl'] = b[i]"
   ],
   "metadata": {
    "collapsed": false,
    "pycharm": {
     "name": "#%%\n"
    }
   }
  },
  {
   "cell_type": "code",
   "execution_count": 18,
   "outputs": [],
   "source": [
    "pool = ThreadPool(20)\n",
    "results = list(pool.map(checkurl, b))"
   ],
   "metadata": {
    "collapsed": false,
    "pycharm": {
     "name": "#%%\n"
    }
   }
  },
  {
   "cell_type": "code",
   "execution_count": 19,
   "outputs": [],
   "source": [
    "a = [i for i in results if i is not None]\n",
    "for i, v in enumerate(a):\n",
    "    df.loc[df['WikiUrl'] == v, 'WikiUrl'] = 'https://ru.wikipedia.org/w/index.php?search=' + \\\n",
    "                                            v.replace('https://ru.wikipedia.org/wiki/', '').replace('_(город)', '')"
   ],
   "metadata": {
    "collapsed": false,
    "pycharm": {
     "name": "#%%\n"
    }
   }
  },
  {
   "cell_type": "code",
   "execution_count": 20,
   "outputs": [
    {
     "data": {
      "text/plain": "     Letter         City Population  \\\n0         а    Астрахань     529793   \n1         а  Архангельск     346979   \n2         а      Ангарск     224630   \n3         а      Армавир     188960   \n4         а       Абакан     186797   \n...     ...          ...        ...   \n1099      я       Яранск      15475   \n1100      я    Ясногорск      15410   \n1101      я        Ясный      15249   \n1102      я       Яхрома      14056   \n1103      я        Ядрин       8170   \n\n                                        GoogleUrl  \\\n0       https://www.google.com/search?q=Астрахань   \n1     https://www.google.com/search?q=Архангельск   \n2         https://www.google.com/search?q=Ангарск   \n3         https://www.google.com/search?q=Армавир   \n4          https://www.google.com/search?q=Абакан   \n...                                           ...   \n1099       https://www.google.com/search?q=Яранск   \n1100    https://www.google.com/search?q=Ясногорск   \n1101        https://www.google.com/search?q=Ясный   \n1102       https://www.google.com/search?q=Яхрома   \n1103        https://www.google.com/search?q=Ядрин   \n\n                                       YandexUrl  \\\n0       https://yandex.ru/search/?text=Астрахань   \n1     https://yandex.ru/search/?text=Архангельск   \n2         https://yandex.ru/search/?text=Ангарск   \n3         https://yandex.ru/search/?text=Армавир   \n4          https://yandex.ru/search/?text=Абакан   \n...                                          ...   \n1099       https://yandex.ru/search/?text=Яранск   \n1100    https://yandex.ru/search/?text=Ясногорск   \n1101        https://yandex.ru/search/?text=Ясный   \n1102       https://yandex.ru/search/?text=Яхрома   \n1103        https://yandex.ru/search/?text=Ядрин   \n\n                                                WikiUrl  \n0               https://ru.wikipedia.org/wiki/Астрахань  \n1             https://ru.wikipedia.org/wiki/Архангельск  \n2                 https://ru.wikipedia.org/wiki/Ангарск  \n3         https://ru.wikipedia.org/wiki/Армавир_(город)  \n4                  https://ru.wikipedia.org/wiki/Абакан  \n...                                                 ...  \n1099               https://ru.wikipedia.org/wiki/Яранск  \n1100  https://ru.wikipedia.org/w/index.php?search=Яс...  \n1101                https://ru.wikipedia.org/wiki/Ясный  \n1102               https://ru.wikipedia.org/wiki/Яхрома  \n1103                https://ru.wikipedia.org/wiki/Ядрин  \n\n[1104 rows x 6 columns]",
      "text/html": "<div>\n<style scoped>\n    .dataframe tbody tr th:only-of-type {\n        vertical-align: middle;\n    }\n\n    .dataframe tbody tr th {\n        vertical-align: top;\n    }\n\n    .dataframe thead th {\n        text-align: right;\n    }\n</style>\n<table border=\"1\" class=\"dataframe\">\n  <thead>\n    <tr style=\"text-align: right;\">\n      <th></th>\n      <th>Letter</th>\n      <th>City</th>\n      <th>Population</th>\n      <th>GoogleUrl</th>\n      <th>YandexUrl</th>\n      <th>WikiUrl</th>\n    </tr>\n  </thead>\n  <tbody>\n    <tr>\n      <th>0</th>\n      <td>а</td>\n      <td>Астрахань</td>\n      <td>529793</td>\n      <td>https://www.google.com/search?q=Астрахань</td>\n      <td>https://yandex.ru/search/?text=Астрахань</td>\n      <td>https://ru.wikipedia.org/wiki/Астрахань</td>\n    </tr>\n    <tr>\n      <th>1</th>\n      <td>а</td>\n      <td>Архангельск</td>\n      <td>346979</td>\n      <td>https://www.google.com/search?q=Архангельск</td>\n      <td>https://yandex.ru/search/?text=Архангельск</td>\n      <td>https://ru.wikipedia.org/wiki/Архангельск</td>\n    </tr>\n    <tr>\n      <th>2</th>\n      <td>а</td>\n      <td>Ангарск</td>\n      <td>224630</td>\n      <td>https://www.google.com/search?q=Ангарск</td>\n      <td>https://yandex.ru/search/?text=Ангарск</td>\n      <td>https://ru.wikipedia.org/wiki/Ангарск</td>\n    </tr>\n    <tr>\n      <th>3</th>\n      <td>а</td>\n      <td>Армавир</td>\n      <td>188960</td>\n      <td>https://www.google.com/search?q=Армавир</td>\n      <td>https://yandex.ru/search/?text=Армавир</td>\n      <td>https://ru.wikipedia.org/wiki/Армавир_(город)</td>\n    </tr>\n    <tr>\n      <th>4</th>\n      <td>а</td>\n      <td>Абакан</td>\n      <td>186797</td>\n      <td>https://www.google.com/search?q=Абакан</td>\n      <td>https://yandex.ru/search/?text=Абакан</td>\n      <td>https://ru.wikipedia.org/wiki/Абакан</td>\n    </tr>\n    <tr>\n      <th>...</th>\n      <td>...</td>\n      <td>...</td>\n      <td>...</td>\n      <td>...</td>\n      <td>...</td>\n      <td>...</td>\n    </tr>\n    <tr>\n      <th>1099</th>\n      <td>я</td>\n      <td>Яранск</td>\n      <td>15475</td>\n      <td>https://www.google.com/search?q=Яранск</td>\n      <td>https://yandex.ru/search/?text=Яранск</td>\n      <td>https://ru.wikipedia.org/wiki/Яранск</td>\n    </tr>\n    <tr>\n      <th>1100</th>\n      <td>я</td>\n      <td>Ясногорск</td>\n      <td>15410</td>\n      <td>https://www.google.com/search?q=Ясногорск</td>\n      <td>https://yandex.ru/search/?text=Ясногорск</td>\n      <td>https://ru.wikipedia.org/w/index.php?search=Яс...</td>\n    </tr>\n    <tr>\n      <th>1101</th>\n      <td>я</td>\n      <td>Ясный</td>\n      <td>15249</td>\n      <td>https://www.google.com/search?q=Ясный</td>\n      <td>https://yandex.ru/search/?text=Ясный</td>\n      <td>https://ru.wikipedia.org/wiki/Ясный</td>\n    </tr>\n    <tr>\n      <th>1102</th>\n      <td>я</td>\n      <td>Яхрома</td>\n      <td>14056</td>\n      <td>https://www.google.com/search?q=Яхрома</td>\n      <td>https://yandex.ru/search/?text=Яхрома</td>\n      <td>https://ru.wikipedia.org/wiki/Яхрома</td>\n    </tr>\n    <tr>\n      <th>1103</th>\n      <td>я</td>\n      <td>Ядрин</td>\n      <td>8170</td>\n      <td>https://www.google.com/search?q=Ядрин</td>\n      <td>https://yandex.ru/search/?text=Ядрин</td>\n      <td>https://ru.wikipedia.org/wiki/Ядрин</td>\n    </tr>\n  </tbody>\n</table>\n<p>1104 rows × 6 columns</p>\n</div>"
     },
     "execution_count": 20,
     "metadata": {},
     "output_type": "execute_result"
    }
   ],
   "source": [
    "df"
   ],
   "metadata": {
    "collapsed": false,
    "pycharm": {
     "name": "#%%\n"
    }
   }
  },
  {
   "cell_type": "code",
   "execution_count": 25,
   "outputs": [
    {
     "name": "stdout",
     "output_type": "stream",
     "text": [
      "4 https://ru.wikipedia.org/w/index.php?search=Дзержинск\n",
      "4 https://ru.wikipedia.org/w/index.php?search=Димитровград\n",
      "4 https://ru.wikipedia.org/w/index.php?search=Бор\n",
      "4 https://ru.wikipedia.org/w/index.php?search=Волчанск\n",
      "4 https://ru.wikipedia.org/w/index.php?search=Гурьевск\n",
      "4 https://ru.wikipedia.org/w/index.php?search=Буинск\n",
      "4 https://ru.wikipedia.org/w/index.php?search=Аксай\n",
      "4 https://ru.wikipedia.org/w/index.php?search=Бабушкин\n",
      "4 https://ru.wikipedia.org/w/index.php?search=Галич\n",
      "4 https://ru.wikipedia.org/w/index.php?search=Белогорск\n",
      "4 https://ru.wikipedia.org/w/index.php?search=Железногорск\n",
      "4 https://ru.wikipedia.org/w/index.php?search=Березовский\n",
      "4 https://ru.wikipedia.org/w/index.php?search=Куйбышев\n",
      "4 https://ru.wikipedia.org/w/index.php?search=Кировск\n",
      "4 https://ru.wikipedia.org/w/index.php?search=Краснознаменск\n",
      "4 https://ru.wikipedia.org/w/index.php?search=Краснослободск\n",
      "4 https://ru.wikipedia.org/w/index.php?search=Кременки\n",
      "4 https://ru.wikipedia.org/w/index.php?search=Красноармейск\n",
      "4 https://ru.wikipedia.org/w/index.php?search=Заречный\n",
      "4 https://ru.wikipedia.org/w/index.php?search=Зеленогорск\n",
      "4 https://ru.wikipedia.org/w/index.php?search=Курчатов\n",
      "4 https://ru.wikipedia.org/w/index.php?search=Любань\n",
      "4 https://ru.wikipedia.org/w/index.php?search=Комсомольск\n",
      "4 https://ru.wikipedia.org/w/index.php?search=Купино\n",
      "4 https://ru.wikipedia.org/w/index.php?search=Каменка\n",
      "4 https://ru.wikipedia.org/w/index.php?search=Михайловск\n",
      "4 https://ru.wikipedia.org/w/index.php?search=Ленинск\n",
      "4 https://ru.wikipedia.org/w/index.php?search=Новомосковск\n",
      "4 https://ru.wikipedia.org/w/index.php?search=Никольск\n",
      "4 https://ru.wikipedia.org/w/index.php?search=Первомайск\n",
      "4 https://ru.wikipedia.org/w/index.php?search=Малоархангельск\n",
      "4 https://ru.wikipedia.org/w/index.php?search=Нефтегорск\n",
      "4 https://ru.wikipedia.org/w/index.php?search=Петровск\n",
      "4 https://ru.wikipedia.org/w/index.php?search=Петухово\n",
      "4 https://ru.wikipedia.org/w/index.php?search=Покровск\n",
      "4 https://ru.wikipedia.org/w/index.php?search=Назарово\n",
      "4 https://ru.wikipedia.org/w/index.php?search=Павловск\n",
      "4 https://ru.wikipedia.org/w/index.php?search=Радужный\n",
      "4 https://ru.wikipedia.org/w/index.php?search=Озерск\n",
      "4 https://ru.wikipedia.org/w/index.php?search=Октябрьск\n",
      "4 https://ru.wikipedia.org/w/index.php?search=Покров\n",
      "4 https://ru.wikipedia.org/w/index.php?search=Приморск\n",
      "4 https://ru.wikipedia.org/w/index.php?search=Сосновка\n",
      "4 https://ru.wikipedia.org/w/index.php?search=Фокино\n",
      "4 https://ru.wikipedia.org/w/index.php?search=Мирный\n",
      "4 https://ru.wikipedia.org/w/index.php?search=Сосновоборск\n",
      "4 https://ru.wikipedia.org/w/index.php?search=Советск\n",
      "4 https://ru.wikipedia.org/w/index.php?search=Майский\n",
      "4 https://ru.wikipedia.org/w/index.php?search=Спасск\n",
      "4 https://ru.wikipedia.org/w/index.php?search=Троицк\n",
      "4 https://ru.wikipedia.org/w/index.php?search=Советский\n",
      "4 https://ru.wikipedia.org/w/index.php?search=Чкаловск\n",
      "4 https://ru.wikipedia.org/w/index.php?search=Межгорье\n",
      "4 https://ru.wikipedia.org/w/index.php?search=Славгород\n",
      "4 https://ru.wikipedia.org/w/index.php?search=Томари\n",
      "4 https://ru.wikipedia.org/w/index.php?search=Углегорск\n",
      "4 https://ru.wikipedia.org/w/index.php?search=Щучье\n",
      "4 https://ru.wikipedia.org/w/index.php?search=Ясногорск\n",
      "4 https://ru.wikipedia.org/w/index.php?search=Светлый\n",
      "4 https://ru.wikipedia.org/w/index.php?search=Светлогорск\n",
      "4 https://ru.wikipedia.org/w/index.php?search=Снежногорск\n"
     ]
    }
   ],
   "source": [
    "def checkurl(url):\n",
    "    while True:\n",
    "        try:\n",
    "            s = requests.get(url).text\n",
    "            page = lxml.etree.fromstring(s, parser=lxml.etree.HTMLParser())\n",
    "            break\n",
    "        except:\n",
    "            pass\n",
    "    if len(page.xpath('//*[@class=\"infobox-image\"]/span/a')) < 1:\n",
    "        if len(page.xpath('//*[@class=\"wikidata-claim\"]/span/a')) < 1:\n",
    "            if len(page.xpath('//*[@class=\"infobox\"]/tr[3]/td/span/span/a')) < 1:\n",
    "                try:\n",
    "                    return page.xpath('//*[@class=\"image\"]')[0].get('href')\n",
    "                except:\n",
    "                    print('4 ' + url + '\\n', end='')\n",
    "            else:\n",
    "                try:\n",
    "                    return page.xpath('//*[@class=\"infobox\"]/tr[3]/td/span/span/a]')[0].get('href')\n",
    "                except:\n",
    "                    print('3 ' + url + '\\n', end='')\n",
    "                    try:\n",
    "                        return page.xpath('//*[@class=\"image\"]')[0].get('href')\n",
    "                    except:\n",
    "                        print('34 ' + url + '\\n', end='')\n",
    "        else:\n",
    "            try:\n",
    "                return page.xpath('//*[@class=\"wikidata-claim\"]/span/a')[0].get('href')\n",
    "            except:\n",
    "                print('2 ' + url + '\\n', end='')\n",
    "                try:\n",
    "                    return page.xpath('//*[@class=\"image\"]')[0].get('href')\n",
    "                except:\n",
    "                    print('24 ' + url + '\\n', end='')\n",
    "    else:\n",
    "        try:\n",
    "            return page.xpath('//*[@class=\"infobox-image\"]/span/a')[0].get('href')\n",
    "        except:\n",
    "            print('1 ' + url + '\\n', end='')\n",
    "            try:\n",
    "                return page.xpath('//*[@class=\"image\"]')[0].get('href')\n",
    "            except:\n",
    "                print('14 ' + url + '\\n', end='')\n",
    "\n",
    "\n",
    "pool = ThreadPool(10)\n",
    "results = list(pool.map(checkurl, df['WikiUrl']))\n"
   ],
   "metadata": {
    "collapsed": false,
    "pycharm": {
     "name": "#%%\n"
    }
   }
  },
  {
   "cell_type": "code",
   "execution_count": 26,
   "outputs": [
    {
     "name": "stdout",
     "output_type": "stream",
     "text": [
      "https://classinform.ru/oktmo/search.php?str=92602101001\n",
      "https://classinform.ru/oktmo/search.php?str=80703000001\n",
      "https://classinform.ru/oktmo/search.php?str=28602101001\n",
      "https://classinform.ru/oktmo/search.php?str=53708000001\n",
      "https://classinform.ru/oktmo/search.php?str=65707000001\n",
      "https://classinform.ru/oktmo/search.php?str=80606101001\n",
      "https://classinform.ru/oktmo/search.php?str=73604101001\n",
      "https://classinform.ru/oktmo/search.php?str=76606101001\n",
      "https://classinform.ru/oktmo/search.php?str=53713000001\n",
      "https://classinform.ru/oktmo/search.php?str=57615101001\n",
      "https://classinform.ru/oktmo/search.php?str=65736000001\n",
      "https://classinform.ru/oktmo/search.php?str=18608101001\n",
      "https://classinform.ru/oktmo/search.php?str=38608101001\n",
      "https://classinform.ru/oktmo/search.php?str=87608101001\n",
      "https://classinform.ru/oktmo/search.php?str=15622101001\n",
      "https://classinform.ru/oktmo/search.php?str=92627101001\n",
      "https://classinform.ru/oktmo/search.php?str=10712000001\n",
      "https://classinform.ru/oktmo/search.php?str=60718000001\n",
      "https://classinform.ru/oktmo/search.php?str=88612101001\n",
      "https://classinform.ru/oktmo/search.php?str=10621101001\n",
      "https://classinform.ru/oktmo/search.php?str=15623101001\n",
      "https://classinform.ru/oktmo/search.php?str=94701000001\n",
      "https://classinform.ru/oktmo/search.php?str=65738000001\n",
      "https://classinform.ru/oktmo/search.php?str=89624101001\n",
      "https://classinform.ru/oktmo/search.php?str=29701000001\n",
      "https://classinform.ru/oktmo/search.php?str=18715000001\n",
      "https://classinform.ru/oktmo/search.php?str=57627101001\n",
      "https://classinform.ru/oktmo/search.php?str=46739000001\n",
      "https://classinform.ru/oktmo/search.php?str=65743000001\n",
      "https://classinform.ru/oktmo/search.php?str=75633101001\n",
      "https://classinform.ru/oktmo/search.php?str=75623101001\n",
      "https://classinform.ru/oktmo/search.php?str=53714000001\n",
      "https://classinform.ru/oktmo/search.php?str=18626101001\n",
      "https://classinform.ru/oktmo/search.php?str=60625101001\n",
      "https://classinform.ru/oktmo/search.php?str=75638101001\n",
      "https://classinform.ru/oktmo/search.php?str=63621101001\n",
      "https://classinform.ru/oktmo/search.php?str=75629101001\n",
      "https://classinform.ru/oktmo/search.php?str=63623101001\n",
      "https://classinform.ru/oktmo/search.php?str=37612101001\n",
      "https://classinform.ru/oktmo/search.php?str=17625101001\n",
      "https://classinform.ru/oktmo/search.php?str=19614105001\n",
      "https://classinform.ru/oktmo/search.php?str=03630101001\n",
      "https://classinform.ru/oktmo/search.php?str=71872000001\n",
      "https://classinform.ru/oktmo/search.php?str=71826105001\n",
      "https://classinform.ru/oktmo/search.php?str=41627101001\n",
      "https://classinform.ru/oktmo/search.php?str=85615101001\n",
      "https://classinform.ru/oktmo/search.php?str=92634101001\n",
      "https://classinform.ru/oktmo/search.php?str=70628113001\n",
      "https://classinform.ru/oktmo/search.php?str=78618101001\n",
      "https://classinform.ru/oktmo/search.php?str=71873000001\n",
      "https://classinform.ru/oktmo/search.php?str=32728000001\n",
      "https://classinform.ru/oktmo/search.php?str=60632101001\n",
      "https://classinform.ru/oktmo/search.php?str=53715000001\n",
      "https://classinform.ru/oktmo/search.php?str=92640101001\n",
      "https://classinform.ru/oktmo/search.php?str=34714000001\n",
      "https://classinform.ru/oktmo/search.php?str=37620101001\n",
      "https://classinform.ru/oktmo/search.php?str=71875000001\n",
      "https://classinform.ru/oktmo/search.php?str=65750000001\n",
      "https://classinform.ru/oktmo/search.php?str=73715000001\n",
      "https://classinform.ru/oktmo/search.php?str=65716000001\n",
      "https://classinform.ru/oktmo/search.php?str=12640101001\n",
      "https://classinform.ru/oktmo/search.php?str=24611104001\n",
      "https://classinform.ru/oktmo/search.php?str=65628101001\n",
      "https://classinform.ru/oktmo/search.php?str=53701000001\n",
      "https://commons.wikimedia.org/wiki/Category:Ob_River\n",
      "https://classinform.ru/oktmo/search.php?str=57644101001\n",
      "https://classinform.ru/oktmo/search.php?str=33645101001\n",
      "https://classinform.ru/oktmo/search.php?str=56701000001\n",
      "https://classinform.ru/oktmo/search.php?str=41603102001\n",
      "https://classinform.ru/oktmo/search.php?str=60645101001\n",
      "https://classinform.ru/oktmo/search.php?str=71884000001\n",
      "https://classinform.ru/oktmo/search.php?str=18645101001\n",
      "https://classinform.ru/okato/search.php?str=66236501\n",
      "https://classinform.ru/oktmo/search.php?str=07701000001\n",
      "https://classinform.ru/oktmo/search.php?str=80743000001\n",
      "https://classinform.ru/oktmo/search.php?str=41612102001\n",
      "https://classinform.ru/okato/search.php?str=69410000000\n",
      "https://classinform.ru/oktmo/search.php?str=25726000001\n",
      "https://classinform.ru/oktmo/search.php?str=65758000001\n",
      "https://classinform.ru/oktmo/search.php?str=15725000001\n",
      "https://classinform.ru/okato/search.php?str=95409000000\n",
      "https://classinform.ru/oktmo/search.php?str=29616104001\n",
      "https://classinform.ru/oktmo/search.php?str=32602104001\n",
      "https://classinform.ru/oktmo/search.php?str=56618108001\n",
      "https://classinform.ru/oktmo/search.php?str=29634101001\n",
      "https://classinform.ru/oktmo/search.php?str=75707000001\n",
      "https://commons.wikimedia.org/wiki/Category:Terek_River\n",
      "https://classinform.ru/oktmo/search.php?str=65724000001\n",
      "https://classinform.ru/oktmo/search.php?str=25738000001\n",
      "https://classinform.ru/oktmo/search.php?str=91635101001\n",
      "https://classinform.ru/oktmo/search.php?str=15658101001\n",
      "https://classinform.ru/oktmo/search.php?str=04656101001\n",
      "https://classinform.ru/oktmo/search.php?str=57653101001\n",
      "https://classinform.ru/oktmo/search.php?str=71871000001\n",
      "https://classinform.ru/oktmo/search.php?str=76647101001\n",
      "https://classinform.ru/oktmo/search.php?str=57620104001\n",
      "https://classinform.ru/oktmo/search.php?str=70640108001\n",
      "https://classinform.ru/oktmo/search.php?str=37642101001\n",
      "https://commons.wikimedia.org/wiki/Category:Shilka_River\n",
      "https://classinform.ru/okato/search.php?str=45297581\n",
      "https://classinform.ru/oktmo/search.php?str=82738000001\n",
      "https://classinform.ru/oktmo/search.php?str=80659101001\n",
      "https://classinform.ru/oktmo/search.php?str=01730000001\n"
     ]
    }
   ],
   "source": [
    "a = []\n",
    "for i in results:\n",
    "    if i is not None:\n",
    "        if 'https' in i:\n",
    "            print(i)\n",
    "            a.append(None)\n",
    "        else:\n",
    "            a.append('https://ru.wikipedia.org' + i)\n",
    "    else:\n",
    "        a.append(None)\n",
    "pd.DataFrame({\n",
    "    'url': df['WikiUrl'],\n",
    "    'pic': a\n",
    "}).to_csv('123.csv')"
   ],
   "metadata": {
    "collapsed": false,
    "pycharm": {
     "name": "#%%\n"
    }
   }
  },
  {
   "cell_type": "code",
   "execution_count": 27,
   "outputs": [
    {
     "name": "stdout",
     "output_type": "stream",
     "text": [
      "https://ru.wikipedia.org/wiki/%D0%95%D0%BA%D0%B0%D1%82%D0%B5%D1%80%D0%B8%D0%BD%D0%B1%D1%83%D1%80%D0%B3-%D0%A1%D0%B8%D1%82%D0%B8\n",
      "https://ru.wikipedia.org/wiki/%D0%92%D0%B5%D0%BB%D0%B8%D0%BA%D0%B8%D0%B9_%D0%9D%D0%BE%D0%B2%D0%B3%D0%BE%D1%80%D0%BE%D0%B4\n",
      "https://ru.wikipedia.org/wiki/%D0%A0%D0%B8%D0%B3%D0%B0\n",
      "https://ru.wikipedia.org/wiki/%D0%91%D0%B0%D1%88%D0%BD%D1%8F_%D0%A1%D1%8E%D1%8E%D0%BC%D0%B1%D0%B8%D0%BA%D0%B5\n",
      "https://ru.wikipedia.org/wiki/%D0%94%D0%BC%D0%B8%D1%82%D1%80%D0%B8%D0%B5%D0%B2%D1%81%D0%BA%D0%B0%D1%8F_%D0%B1%D0%B0%D1%88%D0%BD%D1%8F\n",
      "https://ru.wikipedia.org/w/index.php?title=%D0%92%D0%BE%D0%BA%D0%B7%D0%B0%D0%BB_%D0%9A%D1%80%D0%B0%D1%81%D0%BD%D0%BE%D0%B4%D0%B0%D1%80_I&action=edit&redlink=1\n",
      "4 https://ru.wikipedia.org/w/index.php?title=%D0%92%D0%BE%D0%BA%D0%B7%D0%B0%D0%BB_%D0%9A%D1%80%D0%B0%D1%81%D0%BD%D0%BE%D0%B4%D0%B0%D1%80_I&action=edit&redlink=1\n",
      "https://ru.wikipedia.org/wiki/%D0%A1%D0%BF%D0%B0%D1%81%D1%81%D0%BA%D0%B0%D1%8F_%D0%B1%D0%B0%D1%88%D0%BD%D1%8F\n",
      "https://ru.wikipedia.org/wiki/XVIII_%D0%B2%D0%B5%D0%BA\n",
      "https://ru.wikipedia.org/wiki/%D0%A2%D1%83%D0%B2%D0%B8%D0%BD%D1%81%D0%BA%D0%B8%D0%B9_%D1%8F%D0%B7%D1%8B%D0%BA\n",
      "https://ru.wikipedia.org/wiki/UTC%2B5:00\n",
      "https://ru.wikipedia.org/wiki/%D0%A0%D1%83%D1%81%D1%81%D0%BA%D0%B8%D0%B9_%D1%8F%D0%B7%D1%8B%D0%BA\n",
      "https://ru.wikipedia.org/wiki/%D0%A1%D0%BF%D0%B0%D1%81%D0%BE-%D0%9F%D1%80%D0%B5%D0%BE%D0%B1%D1%80%D0%B0%D0%B6%D0%B5%D0%BD%D1%81%D0%BA%D0%B8%D0%B9_%D1%81%D0%BE%D0%B1%D0%BE%D1%80_(%D0%A0%D1%8B%D0%B1%D0%B8%D0%BD%D1%81%D0%BA)\n",
      "https://ru.wikipedia.org/wiki/%D0%9B%D0%B8%D1%82%D0%B2%D0%B0\n",
      "https://ru.wikipedia.org/wiki/%D0%A1%D0%BE%D0%B1%D0%BE%D1%80_%D0%A1%D0%B2%D1%8F%D1%82%D0%BE%D0%B3%D0%BE_%D0%A4%D0%B5%D0%BE%D0%B4%D0%BE%D1%80%D0%B0_%D0%A3%D1%88%D0%B0%D0%BA%D0%BE%D0%B2%D0%B0\n",
      "https://ru.wikipedia.org/wiki/%D0%90%D0%B1%D1%85%D0%B0%D0%B7%D1%81%D0%BA%D0%B8%D0%B9_%D1%8F%D0%B7%D1%8B%D0%BA\n",
      "https://ru.wikipedia.org/wiki/%D0%9D%D0%B0%D0%B1%D0%B5%D1%80%D0%B5%D0%B6%D0%BD%D0%B0%D1%8F_%D1%80%D0%B5%D0%BA%D0%B8_%D0%94%D0%BE%D0%BD\n",
      "https://ru.wikipedia.org/wiki/%D0%94%D0%B2%D0%BE%D1%80%D1%86%D0%BE%D0%B2%D1%8B%D0%B9_%D0%BC%D0%BE%D1%81%D1%82\n",
      "https://ru.wikipedia.org/wiki/%D0%91%D1%83%D1%80%D1%8F%D1%82%D1%81%D0%BA%D0%B8%D0%B9_%D1%8F%D0%B7%D1%8B%D0%BA\n",
      "https://ru.wikipedia.org/wiki/%D0%A3%D0%BB%D0%B8%D1%86%D0%B0_%D0%A0%D0%B5%D1%81%D0%BF%D1%83%D0%B1%D0%BB%D0%B8%D0%BA%D0%B8_(%D0%A2%D1%8E%D0%BC%D0%B5%D0%BD%D1%8C)\n",
      "https://ru.wikipedia.org/wiki/%D0%A2%D0%B0%D0%B3%D0%B0%D0%BD%D1%80%D0%BE%D0%B3-%D0%9F%D0%B0%D1%81%D1%81%D0%B0%D0%B6%D0%B8%D1%80%D1%81%D0%BA%D0%B8%D0%B9_(%D1%81%D1%82%D0%B0%D0%BD%D1%86%D0%B8%D1%8F)\n",
      "https://ru.wikipedia.org/wiki/%D0%A0%D1%83%D1%81%D1%81%D0%BA%D0%B8%D0%B9_%D1%8F%D0%B7%D1%8B%D0%BA\n",
      "https://ru.wikipedia.org/wiki/%D0%A0%D1%83%D1%81%D1%81%D0%BA%D0%B8%D0%B9_%D1%8F%D0%B7%D1%8B%D0%BA\n",
      "https://ru.wikipedia.org/wiki/%D0%A0%D1%83%D1%81%D1%81%D0%BA%D0%B8%D0%B9_%D1%8F%D0%B7%D1%8B%D0%BA\n",
      "1 https://ru.wikipedia.org/wiki/%D0%9D%D0%B0%D1%80%D1%8C%D1%8F%D0%BD-%D0%9C%D0%B0%D1%80_(%D0%BF%D0%BE%D1%80%D1%82)\n"
     ]
    }
   ],
   "source": [
    "# //*[@id=\"file\"]/a\n",
    "def download_pic(url):\n",
    "    if url is not None:\n",
    "        try:\n",
    "            s = requests.get(url).text\n",
    "        except:\n",
    "            print('1 '+ url + '\\n', end='')\n",
    "            return None\n",
    "        page = lxml.etree.fromstring(s, parser=lxml.etree.HTMLParser())\n",
    "        try:\n",
    "            return page.xpath('//*[@id=\"file\"]/a')[0].get('href')\n",
    "        except:\n",
    "            print(url + '\\n', end='')\n",
    "            try:\n",
    "                return page.xpath('//*[@class=\"image\"]')[0].get('href')\n",
    "            except:\n",
    "                print('4 ' + url + '\\n', end='')\n",
    "\n",
    "pool = ThreadPool(50)\n",
    "results = list(pool.map(download_pic, a))"
   ],
   "metadata": {
    "collapsed": false,
    "pycharm": {
     "name": "#%%\n"
    }
   }
  },
  {
   "cell_type": "code",
   "execution_count": 28,
   "outputs": [
    {
     "data": {
      "text/plain": "     Letter         City Population  \\\n0         а    Астрахань     529793   \n1         а  Архангельск     346979   \n2         а      Ангарск     224630   \n3         а      Армавир     188960   \n4         а       Абакан     186797   \n...     ...          ...        ...   \n1099      я       Яранск      15475   \n1100      я    Ясногорск      15410   \n1101      я        Ясный      15249   \n1102      я       Яхрома      14056   \n1103      я        Ядрин       8170   \n\n                                        GoogleUrl  \\\n0       https://www.google.com/search?q=Астрахань   \n1     https://www.google.com/search?q=Архангельск   \n2         https://www.google.com/search?q=Ангарск   \n3         https://www.google.com/search?q=Армавир   \n4          https://www.google.com/search?q=Абакан   \n...                                           ...   \n1099       https://www.google.com/search?q=Яранск   \n1100    https://www.google.com/search?q=Ясногорск   \n1101        https://www.google.com/search?q=Ясный   \n1102       https://www.google.com/search?q=Яхрома   \n1103        https://www.google.com/search?q=Ядрин   \n\n                                       YandexUrl  \\\n0       https://yandex.ru/search/?text=Астрахань   \n1     https://yandex.ru/search/?text=Архангельск   \n2         https://yandex.ru/search/?text=Ангарск   \n3         https://yandex.ru/search/?text=Армавир   \n4          https://yandex.ru/search/?text=Абакан   \n...                                          ...   \n1099       https://yandex.ru/search/?text=Яранск   \n1100    https://yandex.ru/search/?text=Ясногорск   \n1101        https://yandex.ru/search/?text=Ясный   \n1102       https://yandex.ru/search/?text=Яхрома   \n1103        https://yandex.ru/search/?text=Ядрин   \n\n                                                WikiUrl  \\\n0               https://ru.wikipedia.org/wiki/Астрахань   \n1             https://ru.wikipedia.org/wiki/Архангельск   \n2                 https://ru.wikipedia.org/wiki/Ангарск   \n3         https://ru.wikipedia.org/wiki/Армавир_(город)   \n4                  https://ru.wikipedia.org/wiki/Абакан   \n...                                                 ...   \n1099               https://ru.wikipedia.org/wiki/Яранск   \n1100  https://ru.wikipedia.org/w/index.php?search=Яс...   \n1101                https://ru.wikipedia.org/wiki/Ясный   \n1102               https://ru.wikipedia.org/wiki/Яхрома   \n1103                https://ru.wikipedia.org/wiki/Ядрин   \n\n                                                 PicUrl  \n0     https://upload.wikimedia.org/wikipedia/commons...  \n1     https://upload.wikimedia.org/wikipedia/commons...  \n2     https://upload.wikimedia.org/wikipedia/commons...  \n3     https://upload.wikimedia.org/wikipedia/commons...  \n4     https://upload.wikimedia.org/wikipedia/commons...  \n...                                                 ...  \n1099  https://upload.wikimedia.org/wikipedia/commons...  \n1100                                               None  \n1101  https://upload.wikimedia.org/wikipedia/commons...  \n1102  https://upload.wikimedia.org/wikipedia/commons...  \n1103  https://upload.wikimedia.org/wikipedia/commons...  \n\n[1104 rows x 7 columns]",
      "text/html": "<div>\n<style scoped>\n    .dataframe tbody tr th:only-of-type {\n        vertical-align: middle;\n    }\n\n    .dataframe tbody tr th {\n        vertical-align: top;\n    }\n\n    .dataframe thead th {\n        text-align: right;\n    }\n</style>\n<table border=\"1\" class=\"dataframe\">\n  <thead>\n    <tr style=\"text-align: right;\">\n      <th></th>\n      <th>Letter</th>\n      <th>City</th>\n      <th>Population</th>\n      <th>GoogleUrl</th>\n      <th>YandexUrl</th>\n      <th>WikiUrl</th>\n      <th>PicUrl</th>\n    </tr>\n  </thead>\n  <tbody>\n    <tr>\n      <th>0</th>\n      <td>а</td>\n      <td>Астрахань</td>\n      <td>529793</td>\n      <td>https://www.google.com/search?q=Астрахань</td>\n      <td>https://yandex.ru/search/?text=Астрахань</td>\n      <td>https://ru.wikipedia.org/wiki/Астрахань</td>\n      <td>https://upload.wikimedia.org/wikipedia/commons...</td>\n    </tr>\n    <tr>\n      <th>1</th>\n      <td>а</td>\n      <td>Архангельск</td>\n      <td>346979</td>\n      <td>https://www.google.com/search?q=Архангельск</td>\n      <td>https://yandex.ru/search/?text=Архангельск</td>\n      <td>https://ru.wikipedia.org/wiki/Архангельск</td>\n      <td>https://upload.wikimedia.org/wikipedia/commons...</td>\n    </tr>\n    <tr>\n      <th>2</th>\n      <td>а</td>\n      <td>Ангарск</td>\n      <td>224630</td>\n      <td>https://www.google.com/search?q=Ангарск</td>\n      <td>https://yandex.ru/search/?text=Ангарск</td>\n      <td>https://ru.wikipedia.org/wiki/Ангарск</td>\n      <td>https://upload.wikimedia.org/wikipedia/commons...</td>\n    </tr>\n    <tr>\n      <th>3</th>\n      <td>а</td>\n      <td>Армавир</td>\n      <td>188960</td>\n      <td>https://www.google.com/search?q=Армавир</td>\n      <td>https://yandex.ru/search/?text=Армавир</td>\n      <td>https://ru.wikipedia.org/wiki/Армавир_(город)</td>\n      <td>https://upload.wikimedia.org/wikipedia/commons...</td>\n    </tr>\n    <tr>\n      <th>4</th>\n      <td>а</td>\n      <td>Абакан</td>\n      <td>186797</td>\n      <td>https://www.google.com/search?q=Абакан</td>\n      <td>https://yandex.ru/search/?text=Абакан</td>\n      <td>https://ru.wikipedia.org/wiki/Абакан</td>\n      <td>https://upload.wikimedia.org/wikipedia/commons...</td>\n    </tr>\n    <tr>\n      <th>...</th>\n      <td>...</td>\n      <td>...</td>\n      <td>...</td>\n      <td>...</td>\n      <td>...</td>\n      <td>...</td>\n      <td>...</td>\n    </tr>\n    <tr>\n      <th>1099</th>\n      <td>я</td>\n      <td>Яранск</td>\n      <td>15475</td>\n      <td>https://www.google.com/search?q=Яранск</td>\n      <td>https://yandex.ru/search/?text=Яранск</td>\n      <td>https://ru.wikipedia.org/wiki/Яранск</td>\n      <td>https://upload.wikimedia.org/wikipedia/commons...</td>\n    </tr>\n    <tr>\n      <th>1100</th>\n      <td>я</td>\n      <td>Ясногорск</td>\n      <td>15410</td>\n      <td>https://www.google.com/search?q=Ясногорск</td>\n      <td>https://yandex.ru/search/?text=Ясногорск</td>\n      <td>https://ru.wikipedia.org/w/index.php?search=Яс...</td>\n      <td>None</td>\n    </tr>\n    <tr>\n      <th>1101</th>\n      <td>я</td>\n      <td>Ясный</td>\n      <td>15249</td>\n      <td>https://www.google.com/search?q=Ясный</td>\n      <td>https://yandex.ru/search/?text=Ясный</td>\n      <td>https://ru.wikipedia.org/wiki/Ясный</td>\n      <td>https://upload.wikimedia.org/wikipedia/commons...</td>\n    </tr>\n    <tr>\n      <th>1102</th>\n      <td>я</td>\n      <td>Яхрома</td>\n      <td>14056</td>\n      <td>https://www.google.com/search?q=Яхрома</td>\n      <td>https://yandex.ru/search/?text=Яхрома</td>\n      <td>https://ru.wikipedia.org/wiki/Яхрома</td>\n      <td>https://upload.wikimedia.org/wikipedia/commons...</td>\n    </tr>\n    <tr>\n      <th>1103</th>\n      <td>я</td>\n      <td>Ядрин</td>\n      <td>8170</td>\n      <td>https://www.google.com/search?q=Ядрин</td>\n      <td>https://yandex.ru/search/?text=Ядрин</td>\n      <td>https://ru.wikipedia.org/wiki/Ядрин</td>\n      <td>https://upload.wikimedia.org/wikipedia/commons...</td>\n    </tr>\n  </tbody>\n</table>\n<p>1104 rows × 7 columns</p>\n</div>"
     },
     "execution_count": 28,
     "metadata": {},
     "output_type": "execute_result"
    }
   ],
   "source": [
    "a = []\n",
    "for i in results:\n",
    "    if i is not None:\n",
    "        a.append('https:' + i)\n",
    "    else:\n",
    "        a.append(None)\n",
    "c = pd.Series(a, name='PicUrl')\n",
    "df = pd.concat([df, c], axis=1)\n",
    "df"
   ],
   "metadata": {
    "collapsed": false,
    "pycharm": {
     "name": "#%%\n"
    }
   }
  },
  {
   "cell_type": "code",
   "execution_count": 29,
   "outputs": [
    {
     "data": {
      "text/plain": "     Letter         City Population  \\\n0         а    Астрахань     529793   \n1         а  Архангельск     346979   \n2         а      Ангарск     224630   \n3         а      Армавир     188960   \n4         а       Абакан     186797   \n...     ...          ...        ...   \n1099      я       Яранск      15475   \n1100      я    Ясногорск      15410   \n1101      я        Ясный      15249   \n1102      я       Яхрома      14056   \n1103      я        Ядрин       8170   \n\n                                        GoogleUrl  \\\n0       https://www.google.com/search?q=Астрахань   \n1     https://www.google.com/search?q=Архангельск   \n2         https://www.google.com/search?q=Ангарск   \n3         https://www.google.com/search?q=Армавир   \n4          https://www.google.com/search?q=Абакан   \n...                                           ...   \n1099       https://www.google.com/search?q=Яранск   \n1100    https://www.google.com/search?q=Ясногорск   \n1101        https://www.google.com/search?q=Ясный   \n1102       https://www.google.com/search?q=Яхрома   \n1103        https://www.google.com/search?q=Ядрин   \n\n                                       YandexUrl  \\\n0       https://yandex.ru/search/?text=Астрахань   \n1     https://yandex.ru/search/?text=Архангельск   \n2         https://yandex.ru/search/?text=Ангарск   \n3         https://yandex.ru/search/?text=Армавир   \n4          https://yandex.ru/search/?text=Абакан   \n...                                          ...   \n1099       https://yandex.ru/search/?text=Яранск   \n1100    https://yandex.ru/search/?text=Ясногорск   \n1101        https://yandex.ru/search/?text=Ясный   \n1102       https://yandex.ru/search/?text=Яхрома   \n1103        https://yandex.ru/search/?text=Ядрин   \n\n                                                WikiUrl  \\\n0               https://ru.wikipedia.org/wiki/Астрахань   \n1             https://ru.wikipedia.org/wiki/Архангельск   \n2                 https://ru.wikipedia.org/wiki/Ангарск   \n3         https://ru.wikipedia.org/wiki/Армавир_(город)   \n4                  https://ru.wikipedia.org/wiki/Абакан   \n...                                                 ...   \n1099               https://ru.wikipedia.org/wiki/Яранск   \n1100  https://ru.wikipedia.org/w/index.php?search=Яс...   \n1101                https://ru.wikipedia.org/wiki/Ясный   \n1102               https://ru.wikipedia.org/wiki/Яхрома   \n1103                https://ru.wikipedia.org/wiki/Ядрин   \n\n                                                 PicUrl  \\\n0     https://upload.wikimedia.org/wikipedia/commons...   \n1     https://upload.wikimedia.org/wikipedia/commons...   \n2     https://upload.wikimedia.org/wikipedia/commons...   \n3     https://upload.wikimedia.org/wikipedia/commons...   \n4     https://upload.wikimedia.org/wikipedia/commons...   \n...                                                 ...   \n1099  https://upload.wikimedia.org/wikipedia/commons...   \n1100                                               None   \n1101  https://upload.wikimedia.org/wikipedia/commons...   \n1102  https://upload.wikimedia.org/wikipedia/commons...   \n1103  https://upload.wikimedia.org/wikipedia/commons...   \n\n                                                 MapUrl  \n0     https://www.openstreetmap.org/search?query=Аст...  \n1     https://www.openstreetmap.org/search?query=Арх...  \n2     https://www.openstreetmap.org/search?query=Анг...  \n3     https://www.openstreetmap.org/search?query=Арм...  \n4     https://www.openstreetmap.org/search?query=Абакан  \n...                                                 ...  \n1099  https://www.openstreetmap.org/search?query=Яранск  \n1100  https://www.openstreetmap.org/search?query=Ясн...  \n1101   https://www.openstreetmap.org/search?query=Ясный  \n1102  https://www.openstreetmap.org/search?query=Яхрома  \n1103   https://www.openstreetmap.org/search?query=Ядрин  \n\n[1104 rows x 8 columns]",
      "text/html": "<div>\n<style scoped>\n    .dataframe tbody tr th:only-of-type {\n        vertical-align: middle;\n    }\n\n    .dataframe tbody tr th {\n        vertical-align: top;\n    }\n\n    .dataframe thead th {\n        text-align: right;\n    }\n</style>\n<table border=\"1\" class=\"dataframe\">\n  <thead>\n    <tr style=\"text-align: right;\">\n      <th></th>\n      <th>Letter</th>\n      <th>City</th>\n      <th>Population</th>\n      <th>GoogleUrl</th>\n      <th>YandexUrl</th>\n      <th>WikiUrl</th>\n      <th>PicUrl</th>\n      <th>MapUrl</th>\n    </tr>\n  </thead>\n  <tbody>\n    <tr>\n      <th>0</th>\n      <td>а</td>\n      <td>Астрахань</td>\n      <td>529793</td>\n      <td>https://www.google.com/search?q=Астрахань</td>\n      <td>https://yandex.ru/search/?text=Астрахань</td>\n      <td>https://ru.wikipedia.org/wiki/Астрахань</td>\n      <td>https://upload.wikimedia.org/wikipedia/commons...</td>\n      <td>https://www.openstreetmap.org/search?query=Аст...</td>\n    </tr>\n    <tr>\n      <th>1</th>\n      <td>а</td>\n      <td>Архангельск</td>\n      <td>346979</td>\n      <td>https://www.google.com/search?q=Архангельск</td>\n      <td>https://yandex.ru/search/?text=Архангельск</td>\n      <td>https://ru.wikipedia.org/wiki/Архангельск</td>\n      <td>https://upload.wikimedia.org/wikipedia/commons...</td>\n      <td>https://www.openstreetmap.org/search?query=Арх...</td>\n    </tr>\n    <tr>\n      <th>2</th>\n      <td>а</td>\n      <td>Ангарск</td>\n      <td>224630</td>\n      <td>https://www.google.com/search?q=Ангарск</td>\n      <td>https://yandex.ru/search/?text=Ангарск</td>\n      <td>https://ru.wikipedia.org/wiki/Ангарск</td>\n      <td>https://upload.wikimedia.org/wikipedia/commons...</td>\n      <td>https://www.openstreetmap.org/search?query=Анг...</td>\n    </tr>\n    <tr>\n      <th>3</th>\n      <td>а</td>\n      <td>Армавир</td>\n      <td>188960</td>\n      <td>https://www.google.com/search?q=Армавир</td>\n      <td>https://yandex.ru/search/?text=Армавир</td>\n      <td>https://ru.wikipedia.org/wiki/Армавир_(город)</td>\n      <td>https://upload.wikimedia.org/wikipedia/commons...</td>\n      <td>https://www.openstreetmap.org/search?query=Арм...</td>\n    </tr>\n    <tr>\n      <th>4</th>\n      <td>а</td>\n      <td>Абакан</td>\n      <td>186797</td>\n      <td>https://www.google.com/search?q=Абакан</td>\n      <td>https://yandex.ru/search/?text=Абакан</td>\n      <td>https://ru.wikipedia.org/wiki/Абакан</td>\n      <td>https://upload.wikimedia.org/wikipedia/commons...</td>\n      <td>https://www.openstreetmap.org/search?query=Абакан</td>\n    </tr>\n    <tr>\n      <th>...</th>\n      <td>...</td>\n      <td>...</td>\n      <td>...</td>\n      <td>...</td>\n      <td>...</td>\n      <td>...</td>\n      <td>...</td>\n      <td>...</td>\n    </tr>\n    <tr>\n      <th>1099</th>\n      <td>я</td>\n      <td>Яранск</td>\n      <td>15475</td>\n      <td>https://www.google.com/search?q=Яранск</td>\n      <td>https://yandex.ru/search/?text=Яранск</td>\n      <td>https://ru.wikipedia.org/wiki/Яранск</td>\n      <td>https://upload.wikimedia.org/wikipedia/commons...</td>\n      <td>https://www.openstreetmap.org/search?query=Яранск</td>\n    </tr>\n    <tr>\n      <th>1100</th>\n      <td>я</td>\n      <td>Ясногорск</td>\n      <td>15410</td>\n      <td>https://www.google.com/search?q=Ясногорск</td>\n      <td>https://yandex.ru/search/?text=Ясногорск</td>\n      <td>https://ru.wikipedia.org/w/index.php?search=Яс...</td>\n      <td>None</td>\n      <td>https://www.openstreetmap.org/search?query=Ясн...</td>\n    </tr>\n    <tr>\n      <th>1101</th>\n      <td>я</td>\n      <td>Ясный</td>\n      <td>15249</td>\n      <td>https://www.google.com/search?q=Ясный</td>\n      <td>https://yandex.ru/search/?text=Ясный</td>\n      <td>https://ru.wikipedia.org/wiki/Ясный</td>\n      <td>https://upload.wikimedia.org/wikipedia/commons...</td>\n      <td>https://www.openstreetmap.org/search?query=Ясный</td>\n    </tr>\n    <tr>\n      <th>1102</th>\n      <td>я</td>\n      <td>Яхрома</td>\n      <td>14056</td>\n      <td>https://www.google.com/search?q=Яхрома</td>\n      <td>https://yandex.ru/search/?text=Яхрома</td>\n      <td>https://ru.wikipedia.org/wiki/Яхрома</td>\n      <td>https://upload.wikimedia.org/wikipedia/commons...</td>\n      <td>https://www.openstreetmap.org/search?query=Яхрома</td>\n    </tr>\n    <tr>\n      <th>1103</th>\n      <td>я</td>\n      <td>Ядрин</td>\n      <td>8170</td>\n      <td>https://www.google.com/search?q=Ядрин</td>\n      <td>https://yandex.ru/search/?text=Ядрин</td>\n      <td>https://ru.wikipedia.org/wiki/Ядрин</td>\n      <td>https://upload.wikimedia.org/wikipedia/commons...</td>\n      <td>https://www.openstreetmap.org/search?query=Ядрин</td>\n    </tr>\n  </tbody>\n</table>\n<p>1104 rows × 8 columns</p>\n</div>"
     },
     "execution_count": 29,
     "metadata": {},
     "output_type": "execute_result"
    }
   ],
   "source": [
    "# //*[@id=\"sidebar_content\"]/div[2]/ul/li[1]/a\n",
    "c = pd.Series(['https://www.openstreetmap.org/search?query=' + i for i in df['City']], name='MapUrl')\n",
    "df = pd.concat([df, c], axis=1)\n",
    "df"
   ],
   "metadata": {
    "collapsed": false,
    "pycharm": {
     "name": "#%%\n"
    }
   }
  },
  {
   "cell_type": "code",
   "execution_count": 30,
   "outputs": [],
   "source": [
    "# http://maps.google.com/maps/api/geocode/json?address=\n",
    "# key = 'b8b4742f21550c630a8bd5d1f803a2b6'\n",
    "# s = requests.get(f\"http://api.openweathermap.org/geo/1.0/direct?q={'Perm'}&limit=1&appid={key}\").text\n",
    "# s"
   ],
   "metadata": {
    "collapsed": false,
    "pycharm": {
     "name": "#%%\n"
    }
   }
  },
  {
   "cell_type": "code",
   "execution_count": 31,
   "outputs": [],
   "source": [
    "# //*[@id=\"search\"]/table/tr[3]/td[2]/a[1]\n",
    "# def coordinates(url):\n",
    "#     if url is not None:\n",
    "#         s = requests.get(url).text\n",
    "#         page = lxml.etree.fromstring(s, parser=lxml.etree.HTMLParser())\n",
    "#         try:\n",
    "#             return page.xpath('//*[@id=\"search\"]/table/tr[3]/td[2]/a')[0].get('href')\n",
    "#         except:\n",
    "#             return None\n",
    "#\n",
    "# a = list(df['MapUrl'])\n",
    "#\n",
    "# pool = ThreadPool(50)\n",
    "# results = list(pool.map(coordinates, a))\n"
   ],
   "metadata": {
    "collapsed": false,
    "pycharm": {
     "name": "#%%\n"
    }
   }
  },
  {
   "cell_type": "code",
   "execution_count": 32,
   "outputs": [],
   "source": [
    "# a = 0\n",
    "# for i in results:\n",
    "#     if i is None:\n",
    "#         a += 1\n",
    "# a, len(results)"
   ],
   "metadata": {
    "collapsed": false,
    "pycharm": {
     "name": "#%%\n"
    }
   }
  },
  {
   "cell_type": "code",
   "execution_count": 33,
   "outputs": [],
   "source": [
    "# a = ['http://www.geonames.org' + i for i in results]\n"
   ],
   "metadata": {
    "collapsed": false,
    "pycharm": {
     "name": "#%%\n"
    }
   }
  },
  {
   "cell_type": "code",
   "execution_count": 34,
   "outputs": [],
   "source": [
    "# def coordinates(url):\n",
    "#     if url is not None:\n",
    "#         s = requests.get(url).text\n",
    "#         page = lxml.etree.fromstring(s, parser=lxml.etree.HTMLParser())\n",
    "#         try:\n",
    "#             return page.xpath('//*[@class=\"edit-mode move-mode\"]')[0].Text, \\\n",
    "#                    page.xpath('//*[@class=\"edit-mode move-mode\"]')[1].Text, s\n",
    "#         except Exception as e:\n",
    "#             return e, s\n",
    "#\n",
    "# b = [a[i] for i in range(100)]\n",
    "# pool = ThreadPool(50)\n",
    "# results = list(pool.map(coordinates, b))"
   ],
   "metadata": {
    "collapsed": false,
    "pycharm": {
     "name": "#%%\n"
    }
   }
  },
  {
   "cell_type": "code",
   "execution_count": 35,
   "outputs": [],
   "source": [
    "# with open('123.html', 'w') as f:\n",
    "#     f.write(results[0][1])\n",
    "#\n",
    "# results[0]"
   ],
   "metadata": {
    "collapsed": false,
    "pycharm": {
     "name": "#%%\n"
    }
   }
  },
  {
   "cell_type": "code",
   "execution_count": 36,
   "outputs": [
    {
     "data": {
      "text/plain": "postal_code       PERM\ncountry_code       NaN\nplace_name         NaN\nstate_name         NaN\nstate_code         NaN\ncounty_name        NaN\ncounty_code        NaN\ncommunity_name     NaN\ncommunity_code     NaN\nlatitude           NaN\nlongitude          NaN\naccuracy           NaN\nName: 0, dtype: object"
     },
     "execution_count": 36,
     "metadata": {},
     "output_type": "execute_result"
    }
   ],
   "source": [
    "nomi = pgeocode.Nominatim('ru')\n",
    "nomi.query_postal_code('Perm')"
   ],
   "metadata": {
    "collapsed": false,
    "pycharm": {
     "name": "#%%\n"
    }
   }
  },
  {
   "cell_type": "code",
   "execution_count": 37,
   "outputs": [
    {
     "data": {
      "text/plain": "      country_code postal_code            place_name         state_name  \\\n0               RU      101000                москва             Москва   \n20097           RU      399583                гатище   Липецкая Область   \n20095           RU      399580                волово   Липецкая Область   \n20094           RU      399575          новопавловка   Липецкая Область   \n20093           RU      399574            васильевка   Липецкая Область   \n...            ...         ...                   ...                ...   \n43533           RU      901985   а/т москва-владимир             Москва   \n43534           RU      901987    а/т москва-воронеж             Москва   \n43535           RU      901989     а/т москва-липецк             Москва   \n43536           RU      901991  а/т самара-ульяновск  Самарская Область   \n43537           RU      901993    а/т самара-саратов  Самарская Область   \n\n       state_code      county_name  county_code  community_name  \\\n0            48.0              NaN          NaN             NaN   \n20097        43.0  ВОЛОВСКИЙ РАЙОН          NaN             NaN   \n20095        43.0  ВОЛОВСКИЙ РАЙОН          NaN             NaN   \n20094        43.0  ВОЛОВСКИЙ РАЙОН          NaN             NaN   \n20093        43.0  ВОЛОВСКИЙ РАЙОН          NaN             NaN   \n...           ...              ...          ...             ...   \n43533        48.0              NaN          NaN             NaN   \n43534        48.0              NaN          NaN             NaN   \n43535        48.0              NaN          NaN             NaN   \n43536        65.0              NaN          NaN             NaN   \n43537        65.0              NaN          NaN             NaN   \n\n       community_code  latitude  longitude  accuracy  \n0                 NaN   55.7522    37.6156       4.0  \n20097             NaN   52.2167    37.9442       4.0  \n20095             NaN   52.0242    37.8769       4.0  \n20094             NaN   52.0264    38.7114       4.0  \n20093             NaN   51.4853    40.2036       4.0  \n...               ...       ...        ...       ...  \n43533             NaN   55.7858    37.6256       NaN  \n43534             NaN   55.7858    37.6256       NaN  \n43535             NaN   55.7858    37.6256       NaN  \n43536             NaN   55.7858    37.6256       NaN  \n43537             NaN   55.7858    37.6256       NaN  \n\n[43538 rows x 12 columns]",
      "text/html": "<div>\n<style scoped>\n    .dataframe tbody tr th:only-of-type {\n        vertical-align: middle;\n    }\n\n    .dataframe tbody tr th {\n        vertical-align: top;\n    }\n\n    .dataframe thead th {\n        text-align: right;\n    }\n</style>\n<table border=\"1\" class=\"dataframe\">\n  <thead>\n    <tr style=\"text-align: right;\">\n      <th></th>\n      <th>country_code</th>\n      <th>postal_code</th>\n      <th>place_name</th>\n      <th>state_name</th>\n      <th>state_code</th>\n      <th>county_name</th>\n      <th>county_code</th>\n      <th>community_name</th>\n      <th>community_code</th>\n      <th>latitude</th>\n      <th>longitude</th>\n      <th>accuracy</th>\n    </tr>\n  </thead>\n  <tbody>\n    <tr>\n      <th>0</th>\n      <td>RU</td>\n      <td>101000</td>\n      <td>москва</td>\n      <td>Москва</td>\n      <td>48.0</td>\n      <td>NaN</td>\n      <td>NaN</td>\n      <td>NaN</td>\n      <td>NaN</td>\n      <td>55.7522</td>\n      <td>37.6156</td>\n      <td>4.0</td>\n    </tr>\n    <tr>\n      <th>20097</th>\n      <td>RU</td>\n      <td>399583</td>\n      <td>гатище</td>\n      <td>Липецкая Область</td>\n      <td>43.0</td>\n      <td>ВОЛОВСКИЙ РАЙОН</td>\n      <td>NaN</td>\n      <td>NaN</td>\n      <td>NaN</td>\n      <td>52.2167</td>\n      <td>37.9442</td>\n      <td>4.0</td>\n    </tr>\n    <tr>\n      <th>20095</th>\n      <td>RU</td>\n      <td>399580</td>\n      <td>волово</td>\n      <td>Липецкая Область</td>\n      <td>43.0</td>\n      <td>ВОЛОВСКИЙ РАЙОН</td>\n      <td>NaN</td>\n      <td>NaN</td>\n      <td>NaN</td>\n      <td>52.0242</td>\n      <td>37.8769</td>\n      <td>4.0</td>\n    </tr>\n    <tr>\n      <th>20094</th>\n      <td>RU</td>\n      <td>399575</td>\n      <td>новопавловка</td>\n      <td>Липецкая Область</td>\n      <td>43.0</td>\n      <td>ВОЛОВСКИЙ РАЙОН</td>\n      <td>NaN</td>\n      <td>NaN</td>\n      <td>NaN</td>\n      <td>52.0264</td>\n      <td>38.7114</td>\n      <td>4.0</td>\n    </tr>\n    <tr>\n      <th>20093</th>\n      <td>RU</td>\n      <td>399574</td>\n      <td>васильевка</td>\n      <td>Липецкая Область</td>\n      <td>43.0</td>\n      <td>ВОЛОВСКИЙ РАЙОН</td>\n      <td>NaN</td>\n      <td>NaN</td>\n      <td>NaN</td>\n      <td>51.4853</td>\n      <td>40.2036</td>\n      <td>4.0</td>\n    </tr>\n    <tr>\n      <th>...</th>\n      <td>...</td>\n      <td>...</td>\n      <td>...</td>\n      <td>...</td>\n      <td>...</td>\n      <td>...</td>\n      <td>...</td>\n      <td>...</td>\n      <td>...</td>\n      <td>...</td>\n      <td>...</td>\n      <td>...</td>\n    </tr>\n    <tr>\n      <th>43533</th>\n      <td>RU</td>\n      <td>901985</td>\n      <td>а/т москва-владимир</td>\n      <td>Москва</td>\n      <td>48.0</td>\n      <td>NaN</td>\n      <td>NaN</td>\n      <td>NaN</td>\n      <td>NaN</td>\n      <td>55.7858</td>\n      <td>37.6256</td>\n      <td>NaN</td>\n    </tr>\n    <tr>\n      <th>43534</th>\n      <td>RU</td>\n      <td>901987</td>\n      <td>а/т москва-воронеж</td>\n      <td>Москва</td>\n      <td>48.0</td>\n      <td>NaN</td>\n      <td>NaN</td>\n      <td>NaN</td>\n      <td>NaN</td>\n      <td>55.7858</td>\n      <td>37.6256</td>\n      <td>NaN</td>\n    </tr>\n    <tr>\n      <th>43535</th>\n      <td>RU</td>\n      <td>901989</td>\n      <td>а/т москва-липецк</td>\n      <td>Москва</td>\n      <td>48.0</td>\n      <td>NaN</td>\n      <td>NaN</td>\n      <td>NaN</td>\n      <td>NaN</td>\n      <td>55.7858</td>\n      <td>37.6256</td>\n      <td>NaN</td>\n    </tr>\n    <tr>\n      <th>43536</th>\n      <td>RU</td>\n      <td>901991</td>\n      <td>а/т самара-ульяновск</td>\n      <td>Самарская Область</td>\n      <td>65.0</td>\n      <td>NaN</td>\n      <td>NaN</td>\n      <td>NaN</td>\n      <td>NaN</td>\n      <td>55.7858</td>\n      <td>37.6256</td>\n      <td>NaN</td>\n    </tr>\n    <tr>\n      <th>43537</th>\n      <td>RU</td>\n      <td>901993</td>\n      <td>а/т самара-саратов</td>\n      <td>Самарская Область</td>\n      <td>65.0</td>\n      <td>NaN</td>\n      <td>NaN</td>\n      <td>NaN</td>\n      <td>NaN</td>\n      <td>55.7858</td>\n      <td>37.6256</td>\n      <td>NaN</td>\n    </tr>\n  </tbody>\n</table>\n<p>43538 rows × 12 columns</p>\n</div>"
     },
     "execution_count": 37,
     "metadata": {},
     "output_type": "execute_result"
    }
   ],
   "source": [
    "nom = nomi._data_frame\n",
    "nom['accuracy'] = nom['accuracy'].astype('float')\n",
    "nom = nom.sort_values('accuracy', ascending=False)\n",
    "nom['place_name'] = nom['place_name'].str.lower()\n",
    "nom.to_csv('123.csv')\n",
    "nom"
   ],
   "metadata": {
    "collapsed": false,
    "pycharm": {
     "name": "#%%\n"
    }
   }
  },
  {
   "cell_type": "code",
   "execution_count": 38,
   "outputs": [],
   "source": [
    "l = list(df['City'])\n",
    "a = [nom.loc[nom['place_name'] == i.lower().replace('ё','е')] for i in l]"
   ],
   "metadata": {
    "collapsed": false,
    "pycharm": {
     "name": "#%%\n"
    }
   }
  },
  {
   "cell_type": "code",
   "execution_count": 39,
   "outputs": [
    {
     "data": {
      "text/plain": "43"
     },
     "execution_count": 39,
     "metadata": {},
     "output_type": "execute_result"
    }
   ],
   "source": [
    "j = 0\n",
    "for i in a:\n",
    "    if len(i) == 0:\n",
    "        j += 1\n",
    "j"
   ],
   "metadata": {
    "collapsed": false,
    "pycharm": {
     "name": "#%%\n"
    }
   }
  },
  {
   "cell_type": "code",
   "execution_count": 40,
   "outputs": [],
   "source": [
    "def f(i):\n",
    "    try:\n",
    "        return tuple(i.reset_index(drop=True).loc[0,['latitude', 'longitude']])\n",
    "    except:\n",
    "        return None\n",
    "\n",
    "b = [f(i) for i in a]"
   ],
   "metadata": {
    "collapsed": false,
    "pycharm": {
     "name": "#%%\n"
    }
   }
  },
  {
   "cell_type": "code",
   "execution_count": 41,
   "outputs": [
    {
     "data": {
      "text/plain": "29               Алушта\n35              Армянск\n52               Алупка\n96           Бахчисарай\n217         Гаврилов-Ям\n241             Джанкой\n242         Дальнегорск\n258             Долинск\n265           Дмитровск\n269           Евпатория\n300                Зима\n320              Зубцов\n338            Инкерман\n342           Иннополис\n358               Керчь\n377             Когалым\n381        Красное Село\n401             Кудрово\n416          Кандалакша\n433     Красноперекопск\n459              Ковдор\n475             Калязин\n515           Ломоносов\n518         Лесозаводск\n563          Мончегорск\n571          Муравленко\n576          Медногорск\n635               Надым\n647            Невьянск\n670           Нариманов\n729            Петергоф\n813         Севастополь\n816         Симферополь\n840         Североморск\n844          Саяногорск\n869                Саки\n879             Сысерть\n887               Судак\n903         Старый Крым\n1004           Феодосия\n1024        Циолковский\n1031         Черногорск\n1094               Ялта\nName: City, dtype: object"
     },
     "execution_count": 41,
     "metadata": {},
     "output_type": "execute_result"
    }
   ],
   "source": [
    "nones = df.loc[[i for i, e in enumerate(b) if e is None], 'City']\n",
    "nones"
   ],
   "metadata": {
    "collapsed": false,
    "pycharm": {
     "name": "#%%\n"
    }
   }
  },
  {
   "cell_type": "code",
   "execution_count": 42,
   "outputs": [
    {
     "data": {
      "text/plain": "{'place_id': 258924502,\n 'licence': 'Data © OpenStreetMap contributors, ODbL 1.0. https://osm.org/copyright',\n 'osm_type': 'relation',\n 'osm_id': 3437213,\n 'boundingbox': ['57.8678961', '58.1792804', '55.8042579', '56.6555926'],\n 'lat': '58.0230679',\n 'lon': '56.232803119037456',\n 'display_name': 'Пермь, Пермский край, Приволжский федеральный округ, Россия',\n 'class': 'place',\n 'type': 'city',\n 'importance': 0.35,\n 'icon': 'https://nominatim.openstreetmap.org/ui/mapicons//poi_place_city.p.20.png'}"
     },
     "execution_count": 42,
     "metadata": {},
     "output_type": "execute_result"
    }
   ],
   "source": [
    "nom = Nominatim(user_agent=\"http\")\n",
    "loc = nom.geocode('пермь')\n",
    "loc.raw"
   ],
   "metadata": {
    "collapsed": false,
    "pycharm": {
     "name": "#%%\n"
    }
   }
  },
  {
   "cell_type": "code",
   "execution_count": 43,
   "outputs": [],
   "source": [
    "for i, v in nones.items():\n",
    "    loc = nom.geocode('пермь')\n",
    "    b[i] = (loc.raw['lat'], loc.raw['lon'])"
   ],
   "metadata": {
    "collapsed": false,
    "pycharm": {
     "name": "#%%\n"
    }
   }
  },
  {
   "cell_type": "code",
   "execution_count": 44,
   "outputs": [
    {
     "data": {
      "text/plain": "Series([], Name: City, dtype: object)"
     },
     "execution_count": 44,
     "metadata": {},
     "output_type": "execute_result"
    }
   ],
   "source": [
    "nones = df.loc[[i for i, e in enumerate(b) if e is None], 'City']\n",
    "nones"
   ],
   "metadata": {
    "collapsed": false,
    "pycharm": {
     "name": "#%%\n"
    }
   }
  },
  {
   "cell_type": "code",
   "execution_count": 45,
   "outputs": [
    {
     "data": {
      "text/plain": "     Letter         City Population  \\\n0         а    Астрахань     529793   \n1         а  Архангельск     346979   \n2         а      Ангарск     224630   \n3         а      Армавир     188960   \n4         а       Абакан     186797   \n...     ...          ...        ...   \n1099      я       Яранск      15475   \n1100      я    Ясногорск      15410   \n1101      я        Ясный      15249   \n1102      я       Яхрома      14056   \n1103      я        Ядрин       8170   \n\n                                        GoogleUrl  \\\n0       https://www.google.com/search?q=Астрахань   \n1     https://www.google.com/search?q=Архангельск   \n2         https://www.google.com/search?q=Ангарск   \n3         https://www.google.com/search?q=Армавир   \n4          https://www.google.com/search?q=Абакан   \n...                                           ...   \n1099       https://www.google.com/search?q=Яранск   \n1100    https://www.google.com/search?q=Ясногорск   \n1101        https://www.google.com/search?q=Ясный   \n1102       https://www.google.com/search?q=Яхрома   \n1103        https://www.google.com/search?q=Ядрин   \n\n                                       YandexUrl  \\\n0       https://yandex.ru/search/?text=Астрахань   \n1     https://yandex.ru/search/?text=Архангельск   \n2         https://yandex.ru/search/?text=Ангарск   \n3         https://yandex.ru/search/?text=Армавир   \n4          https://yandex.ru/search/?text=Абакан   \n...                                          ...   \n1099       https://yandex.ru/search/?text=Яранск   \n1100    https://yandex.ru/search/?text=Ясногорск   \n1101        https://yandex.ru/search/?text=Ясный   \n1102       https://yandex.ru/search/?text=Яхрома   \n1103        https://yandex.ru/search/?text=Ядрин   \n\n                                                WikiUrl  \\\n0               https://ru.wikipedia.org/wiki/Астрахань   \n1             https://ru.wikipedia.org/wiki/Архангельск   \n2                 https://ru.wikipedia.org/wiki/Ангарск   \n3         https://ru.wikipedia.org/wiki/Армавир_(город)   \n4                  https://ru.wikipedia.org/wiki/Абакан   \n...                                                 ...   \n1099               https://ru.wikipedia.org/wiki/Яранск   \n1100  https://ru.wikipedia.org/w/index.php?search=Яс...   \n1101                https://ru.wikipedia.org/wiki/Ясный   \n1102               https://ru.wikipedia.org/wiki/Яхрома   \n1103                https://ru.wikipedia.org/wiki/Ядрин   \n\n                                                 PicUrl  \\\n0     https://upload.wikimedia.org/wikipedia/commons...   \n1     https://upload.wikimedia.org/wikipedia/commons...   \n2     https://upload.wikimedia.org/wikipedia/commons...   \n3     https://upload.wikimedia.org/wikipedia/commons...   \n4     https://upload.wikimedia.org/wikipedia/commons...   \n...                                                 ...   \n1099  https://upload.wikimedia.org/wikipedia/commons...   \n1100                                               None   \n1101  https://upload.wikimedia.org/wikipedia/commons...   \n1102  https://upload.wikimedia.org/wikipedia/commons...   \n1103  https://upload.wikimedia.org/wikipedia/commons...   \n\n                                                 MapUrl Latitude  \n0     https://www.openstreetmap.org/search?query=Аст...    46.34  \n1     https://www.openstreetmap.org/search?query=Арх...     54.9  \n2     https://www.openstreetmap.org/search?query=Анг...    52.53  \n3     https://www.openstreetmap.org/search?query=Арм...    44.98  \n4     https://www.openstreetmap.org/search?query=Абакан    53.71  \n...                                                 ...      ...  \n1099  https://www.openstreetmap.org/search?query=Яранск  57.2994  \n1100  https://www.openstreetmap.org/search?query=Ясн...  54.4803  \n1101   https://www.openstreetmap.org/search?query=Ясный  45.6139  \n1102  https://www.openstreetmap.org/search?query=Яхрома     56.3  \n1103   https://www.openstreetmap.org/search?query=Ядрин  55.9403  \n\n[1104 rows x 9 columns]",
      "text/html": "<div>\n<style scoped>\n    .dataframe tbody tr th:only-of-type {\n        vertical-align: middle;\n    }\n\n    .dataframe tbody tr th {\n        vertical-align: top;\n    }\n\n    .dataframe thead th {\n        text-align: right;\n    }\n</style>\n<table border=\"1\" class=\"dataframe\">\n  <thead>\n    <tr style=\"text-align: right;\">\n      <th></th>\n      <th>Letter</th>\n      <th>City</th>\n      <th>Population</th>\n      <th>GoogleUrl</th>\n      <th>YandexUrl</th>\n      <th>WikiUrl</th>\n      <th>PicUrl</th>\n      <th>MapUrl</th>\n      <th>Latitude</th>\n    </tr>\n  </thead>\n  <tbody>\n    <tr>\n      <th>0</th>\n      <td>а</td>\n      <td>Астрахань</td>\n      <td>529793</td>\n      <td>https://www.google.com/search?q=Астрахань</td>\n      <td>https://yandex.ru/search/?text=Астрахань</td>\n      <td>https://ru.wikipedia.org/wiki/Астрахань</td>\n      <td>https://upload.wikimedia.org/wikipedia/commons...</td>\n      <td>https://www.openstreetmap.org/search?query=Аст...</td>\n      <td>46.34</td>\n    </tr>\n    <tr>\n      <th>1</th>\n      <td>а</td>\n      <td>Архангельск</td>\n      <td>346979</td>\n      <td>https://www.google.com/search?q=Архангельск</td>\n      <td>https://yandex.ru/search/?text=Архангельск</td>\n      <td>https://ru.wikipedia.org/wiki/Архангельск</td>\n      <td>https://upload.wikimedia.org/wikipedia/commons...</td>\n      <td>https://www.openstreetmap.org/search?query=Арх...</td>\n      <td>54.9</td>\n    </tr>\n    <tr>\n      <th>2</th>\n      <td>а</td>\n      <td>Ангарск</td>\n      <td>224630</td>\n      <td>https://www.google.com/search?q=Ангарск</td>\n      <td>https://yandex.ru/search/?text=Ангарск</td>\n      <td>https://ru.wikipedia.org/wiki/Ангарск</td>\n      <td>https://upload.wikimedia.org/wikipedia/commons...</td>\n      <td>https://www.openstreetmap.org/search?query=Анг...</td>\n      <td>52.53</td>\n    </tr>\n    <tr>\n      <th>3</th>\n      <td>а</td>\n      <td>Армавир</td>\n      <td>188960</td>\n      <td>https://www.google.com/search?q=Армавир</td>\n      <td>https://yandex.ru/search/?text=Армавир</td>\n      <td>https://ru.wikipedia.org/wiki/Армавир_(город)</td>\n      <td>https://upload.wikimedia.org/wikipedia/commons...</td>\n      <td>https://www.openstreetmap.org/search?query=Арм...</td>\n      <td>44.98</td>\n    </tr>\n    <tr>\n      <th>4</th>\n      <td>а</td>\n      <td>Абакан</td>\n      <td>186797</td>\n      <td>https://www.google.com/search?q=Абакан</td>\n      <td>https://yandex.ru/search/?text=Абакан</td>\n      <td>https://ru.wikipedia.org/wiki/Абакан</td>\n      <td>https://upload.wikimedia.org/wikipedia/commons...</td>\n      <td>https://www.openstreetmap.org/search?query=Абакан</td>\n      <td>53.71</td>\n    </tr>\n    <tr>\n      <th>...</th>\n      <td>...</td>\n      <td>...</td>\n      <td>...</td>\n      <td>...</td>\n      <td>...</td>\n      <td>...</td>\n      <td>...</td>\n      <td>...</td>\n      <td>...</td>\n    </tr>\n    <tr>\n      <th>1099</th>\n      <td>я</td>\n      <td>Яранск</td>\n      <td>15475</td>\n      <td>https://www.google.com/search?q=Яранск</td>\n      <td>https://yandex.ru/search/?text=Яранск</td>\n      <td>https://ru.wikipedia.org/wiki/Яранск</td>\n      <td>https://upload.wikimedia.org/wikipedia/commons...</td>\n      <td>https://www.openstreetmap.org/search?query=Яранск</td>\n      <td>57.2994</td>\n    </tr>\n    <tr>\n      <th>1100</th>\n      <td>я</td>\n      <td>Ясногорск</td>\n      <td>15410</td>\n      <td>https://www.google.com/search?q=Ясногорск</td>\n      <td>https://yandex.ru/search/?text=Ясногорск</td>\n      <td>https://ru.wikipedia.org/w/index.php?search=Яс...</td>\n      <td>None</td>\n      <td>https://www.openstreetmap.org/search?query=Ясн...</td>\n      <td>54.4803</td>\n    </tr>\n    <tr>\n      <th>1101</th>\n      <td>я</td>\n      <td>Ясный</td>\n      <td>15249</td>\n      <td>https://www.google.com/search?q=Ясный</td>\n      <td>https://yandex.ru/search/?text=Ясный</td>\n      <td>https://ru.wikipedia.org/wiki/Ясный</td>\n      <td>https://upload.wikimedia.org/wikipedia/commons...</td>\n      <td>https://www.openstreetmap.org/search?query=Ясный</td>\n      <td>45.6139</td>\n    </tr>\n    <tr>\n      <th>1102</th>\n      <td>я</td>\n      <td>Яхрома</td>\n      <td>14056</td>\n      <td>https://www.google.com/search?q=Яхрома</td>\n      <td>https://yandex.ru/search/?text=Яхрома</td>\n      <td>https://ru.wikipedia.org/wiki/Яхрома</td>\n      <td>https://upload.wikimedia.org/wikipedia/commons...</td>\n      <td>https://www.openstreetmap.org/search?query=Яхрома</td>\n      <td>56.3</td>\n    </tr>\n    <tr>\n      <th>1103</th>\n      <td>я</td>\n      <td>Ядрин</td>\n      <td>8170</td>\n      <td>https://www.google.com/search?q=Ядрин</td>\n      <td>https://yandex.ru/search/?text=Ядрин</td>\n      <td>https://ru.wikipedia.org/wiki/Ядрин</td>\n      <td>https://upload.wikimedia.org/wikipedia/commons...</td>\n      <td>https://www.openstreetmap.org/search?query=Ядрин</td>\n      <td>55.9403</td>\n    </tr>\n  </tbody>\n</table>\n<p>1104 rows × 9 columns</p>\n</div>"
     },
     "execution_count": 45,
     "metadata": {},
     "output_type": "execute_result"
    }
   ],
   "source": [
    "c = pd.Series([i[0] for i in b], name='Latitude')\n",
    "df = pd.concat([df, c], axis=1)\n",
    "df"
   ],
   "metadata": {
    "collapsed": false,
    "pycharm": {
     "name": "#%%\n"
    }
   }
  },
  {
   "cell_type": "code",
   "execution_count": 46,
   "outputs": [
    {
     "data": {
      "text/plain": "     Letter         City Population  \\\n0         а    Астрахань     529793   \n1         а  Архангельск     346979   \n2         а      Ангарск     224630   \n3         а      Армавир     188960   \n4         а       Абакан     186797   \n...     ...          ...        ...   \n1099      я       Яранск      15475   \n1100      я    Ясногорск      15410   \n1101      я        Ясный      15249   \n1102      я       Яхрома      14056   \n1103      я        Ядрин       8170   \n\n                                        GoogleUrl  \\\n0       https://www.google.com/search?q=Астрахань   \n1     https://www.google.com/search?q=Архангельск   \n2         https://www.google.com/search?q=Ангарск   \n3         https://www.google.com/search?q=Армавир   \n4          https://www.google.com/search?q=Абакан   \n...                                           ...   \n1099       https://www.google.com/search?q=Яранск   \n1100    https://www.google.com/search?q=Ясногорск   \n1101        https://www.google.com/search?q=Ясный   \n1102       https://www.google.com/search?q=Яхрома   \n1103        https://www.google.com/search?q=Ядрин   \n\n                                       YandexUrl  \\\n0       https://yandex.ru/search/?text=Астрахань   \n1     https://yandex.ru/search/?text=Архангельск   \n2         https://yandex.ru/search/?text=Ангарск   \n3         https://yandex.ru/search/?text=Армавир   \n4          https://yandex.ru/search/?text=Абакан   \n...                                          ...   \n1099       https://yandex.ru/search/?text=Яранск   \n1100    https://yandex.ru/search/?text=Ясногорск   \n1101        https://yandex.ru/search/?text=Ясный   \n1102       https://yandex.ru/search/?text=Яхрома   \n1103        https://yandex.ru/search/?text=Ядрин   \n\n                                                WikiUrl  \\\n0               https://ru.wikipedia.org/wiki/Астрахань   \n1             https://ru.wikipedia.org/wiki/Архангельск   \n2                 https://ru.wikipedia.org/wiki/Ангарск   \n3         https://ru.wikipedia.org/wiki/Армавир_(город)   \n4                  https://ru.wikipedia.org/wiki/Абакан   \n...                                                 ...   \n1099               https://ru.wikipedia.org/wiki/Яранск   \n1100  https://ru.wikipedia.org/w/index.php?search=Яс...   \n1101                https://ru.wikipedia.org/wiki/Ясный   \n1102               https://ru.wikipedia.org/wiki/Яхрома   \n1103                https://ru.wikipedia.org/wiki/Ядрин   \n\n                                                 PicUrl  \\\n0     https://upload.wikimedia.org/wikipedia/commons...   \n1     https://upload.wikimedia.org/wikipedia/commons...   \n2     https://upload.wikimedia.org/wikipedia/commons...   \n3     https://upload.wikimedia.org/wikipedia/commons...   \n4     https://upload.wikimedia.org/wikipedia/commons...   \n...                                                 ...   \n1099  https://upload.wikimedia.org/wikipedia/commons...   \n1100                                               None   \n1101  https://upload.wikimedia.org/wikipedia/commons...   \n1102  https://upload.wikimedia.org/wikipedia/commons...   \n1103  https://upload.wikimedia.org/wikipedia/commons...   \n\n                                                 MapUrl Latitude Longitude  \n0     https://www.openstreetmap.org/search?query=Аст...    46.34     48.04  \n1     https://www.openstreetmap.org/search?query=Арх...     54.9     59.74  \n2     https://www.openstreetmap.org/search?query=Анг...    52.53    103.88  \n3     https://www.openstreetmap.org/search?query=Арм...    44.98     41.12  \n4     https://www.openstreetmap.org/search?query=Абакан    53.71     91.42  \n...                                                 ...      ...       ...  \n1099  https://www.openstreetmap.org/search?query=Яранск  57.2994   47.8822  \n1100  https://www.openstreetmap.org/search?query=Ясн...  54.4803   37.6975  \n1101   https://www.openstreetmap.org/search?query=Ясный  45.6139   43.5381  \n1102  https://www.openstreetmap.org/search?query=Яхрома     56.3   37.4833  \n1103   https://www.openstreetmap.org/search?query=Ядрин  55.9403    46.205  \n\n[1104 rows x 10 columns]",
      "text/html": "<div>\n<style scoped>\n    .dataframe tbody tr th:only-of-type {\n        vertical-align: middle;\n    }\n\n    .dataframe tbody tr th {\n        vertical-align: top;\n    }\n\n    .dataframe thead th {\n        text-align: right;\n    }\n</style>\n<table border=\"1\" class=\"dataframe\">\n  <thead>\n    <tr style=\"text-align: right;\">\n      <th></th>\n      <th>Letter</th>\n      <th>City</th>\n      <th>Population</th>\n      <th>GoogleUrl</th>\n      <th>YandexUrl</th>\n      <th>WikiUrl</th>\n      <th>PicUrl</th>\n      <th>MapUrl</th>\n      <th>Latitude</th>\n      <th>Longitude</th>\n    </tr>\n  </thead>\n  <tbody>\n    <tr>\n      <th>0</th>\n      <td>а</td>\n      <td>Астрахань</td>\n      <td>529793</td>\n      <td>https://www.google.com/search?q=Астрахань</td>\n      <td>https://yandex.ru/search/?text=Астрахань</td>\n      <td>https://ru.wikipedia.org/wiki/Астрахань</td>\n      <td>https://upload.wikimedia.org/wikipedia/commons...</td>\n      <td>https://www.openstreetmap.org/search?query=Аст...</td>\n      <td>46.34</td>\n      <td>48.04</td>\n    </tr>\n    <tr>\n      <th>1</th>\n      <td>а</td>\n      <td>Архангельск</td>\n      <td>346979</td>\n      <td>https://www.google.com/search?q=Архангельск</td>\n      <td>https://yandex.ru/search/?text=Архангельск</td>\n      <td>https://ru.wikipedia.org/wiki/Архангельск</td>\n      <td>https://upload.wikimedia.org/wikipedia/commons...</td>\n      <td>https://www.openstreetmap.org/search?query=Арх...</td>\n      <td>54.9</td>\n      <td>59.74</td>\n    </tr>\n    <tr>\n      <th>2</th>\n      <td>а</td>\n      <td>Ангарск</td>\n      <td>224630</td>\n      <td>https://www.google.com/search?q=Ангарск</td>\n      <td>https://yandex.ru/search/?text=Ангарск</td>\n      <td>https://ru.wikipedia.org/wiki/Ангарск</td>\n      <td>https://upload.wikimedia.org/wikipedia/commons...</td>\n      <td>https://www.openstreetmap.org/search?query=Анг...</td>\n      <td>52.53</td>\n      <td>103.88</td>\n    </tr>\n    <tr>\n      <th>3</th>\n      <td>а</td>\n      <td>Армавир</td>\n      <td>188960</td>\n      <td>https://www.google.com/search?q=Армавир</td>\n      <td>https://yandex.ru/search/?text=Армавир</td>\n      <td>https://ru.wikipedia.org/wiki/Армавир_(город)</td>\n      <td>https://upload.wikimedia.org/wikipedia/commons...</td>\n      <td>https://www.openstreetmap.org/search?query=Арм...</td>\n      <td>44.98</td>\n      <td>41.12</td>\n    </tr>\n    <tr>\n      <th>4</th>\n      <td>а</td>\n      <td>Абакан</td>\n      <td>186797</td>\n      <td>https://www.google.com/search?q=Абакан</td>\n      <td>https://yandex.ru/search/?text=Абакан</td>\n      <td>https://ru.wikipedia.org/wiki/Абакан</td>\n      <td>https://upload.wikimedia.org/wikipedia/commons...</td>\n      <td>https://www.openstreetmap.org/search?query=Абакан</td>\n      <td>53.71</td>\n      <td>91.42</td>\n    </tr>\n    <tr>\n      <th>...</th>\n      <td>...</td>\n      <td>...</td>\n      <td>...</td>\n      <td>...</td>\n      <td>...</td>\n      <td>...</td>\n      <td>...</td>\n      <td>...</td>\n      <td>...</td>\n      <td>...</td>\n    </tr>\n    <tr>\n      <th>1099</th>\n      <td>я</td>\n      <td>Яранск</td>\n      <td>15475</td>\n      <td>https://www.google.com/search?q=Яранск</td>\n      <td>https://yandex.ru/search/?text=Яранск</td>\n      <td>https://ru.wikipedia.org/wiki/Яранск</td>\n      <td>https://upload.wikimedia.org/wikipedia/commons...</td>\n      <td>https://www.openstreetmap.org/search?query=Яранск</td>\n      <td>57.2994</td>\n      <td>47.8822</td>\n    </tr>\n    <tr>\n      <th>1100</th>\n      <td>я</td>\n      <td>Ясногорск</td>\n      <td>15410</td>\n      <td>https://www.google.com/search?q=Ясногорск</td>\n      <td>https://yandex.ru/search/?text=Ясногорск</td>\n      <td>https://ru.wikipedia.org/w/index.php?search=Яс...</td>\n      <td>None</td>\n      <td>https://www.openstreetmap.org/search?query=Ясн...</td>\n      <td>54.4803</td>\n      <td>37.6975</td>\n    </tr>\n    <tr>\n      <th>1101</th>\n      <td>я</td>\n      <td>Ясный</td>\n      <td>15249</td>\n      <td>https://www.google.com/search?q=Ясный</td>\n      <td>https://yandex.ru/search/?text=Ясный</td>\n      <td>https://ru.wikipedia.org/wiki/Ясный</td>\n      <td>https://upload.wikimedia.org/wikipedia/commons...</td>\n      <td>https://www.openstreetmap.org/search?query=Ясный</td>\n      <td>45.6139</td>\n      <td>43.5381</td>\n    </tr>\n    <tr>\n      <th>1102</th>\n      <td>я</td>\n      <td>Яхрома</td>\n      <td>14056</td>\n      <td>https://www.google.com/search?q=Яхрома</td>\n      <td>https://yandex.ru/search/?text=Яхрома</td>\n      <td>https://ru.wikipedia.org/wiki/Яхрома</td>\n      <td>https://upload.wikimedia.org/wikipedia/commons...</td>\n      <td>https://www.openstreetmap.org/search?query=Яхрома</td>\n      <td>56.3</td>\n      <td>37.4833</td>\n    </tr>\n    <tr>\n      <th>1103</th>\n      <td>я</td>\n      <td>Ядрин</td>\n      <td>8170</td>\n      <td>https://www.google.com/search?q=Ядрин</td>\n      <td>https://yandex.ru/search/?text=Ядрин</td>\n      <td>https://ru.wikipedia.org/wiki/Ядрин</td>\n      <td>https://upload.wikimedia.org/wikipedia/commons...</td>\n      <td>https://www.openstreetmap.org/search?query=Ядрин</td>\n      <td>55.9403</td>\n      <td>46.205</td>\n    </tr>\n  </tbody>\n</table>\n<p>1104 rows × 10 columns</p>\n</div>"
     },
     "execution_count": 46,
     "metadata": {},
     "output_type": "execute_result"
    }
   ],
   "source": [
    "c = pd.Series([i[1] for i in b], name='Longitude')\n",
    "df = pd.concat([df, c], axis=1)\n",
    "df"
   ],
   "metadata": {
    "collapsed": false,
    "pycharm": {
     "name": "#%%\n"
    }
   }
  },
  {
   "cell_type": "code",
   "execution_count": 47,
   "outputs": [
    {
     "data": {
      "text/plain": "'А́страхань — город России, административный центр Астраханской области. Старейший экономический и культурный центр Нижнего Поволжья и Прикаспия. Входит в перечень исторических городов России. Образует городской округ город Астрахань. Центр Астраханской городской агломерации.\\nРасполагается в верхней части дельты реки Волги, на 11 островах Прикаспийской низменности. Расстояние до Москвы по автодороге составляет 1550 км. Город разделён на 4 административных района: Кировский, Советский, Ленинский и Трусовский. Население: 524 371 чел. (2021). Площадь: 208,70 км². В Астрахани проживают представители более 200 национальностей, 19 конфессий, действуют 170 обществ национальных культур.'"
     },
     "execution_count": 47,
     "metadata": {},
     "output_type": "execute_result"
    }
   ],
   "source": [
    "wiki_wiki = wikipediaapi.Wikipedia('ru')\n",
    "page_py = wiki_wiki.page('Астрахань')\n",
    "page_py.summary"
   ],
   "metadata": {
    "collapsed": false,
    "pycharm": {
     "name": "#%%\n"
    }
   }
  },
  {
   "cell_type": "code",
   "execution_count": 48,
   "outputs": [],
   "source": [
    "def wiki(s):\n",
    "    try:\n",
    "        page_py = wiki_wiki.page(s).summary\n",
    "        return page_py\n",
    "    except:\n",
    "        print(s + '\\n', end=\"\")\n",
    "        return None\n",
    "\n",
    "pool = ThreadPool(50)\n",
    "results = list(pool.map(wiki,\n",
    "                        [i.replace(\"https://ru.wikipedia.org/wiki/\", \"\") for i in df['WikiUrl']]))"
   ],
   "metadata": {
    "collapsed": false,
    "pycharm": {
     "name": "#%%\n"
    }
   }
  },
  {
   "cell_type": "code",
   "execution_count": 49,
   "outputs": [
    {
     "data": {
      "text/plain": "     Letter         City Population  \\\n0         а    Астрахань     529793   \n1         а  Архангельск     346979   \n2         а      Ангарск     224630   \n3         а      Армавир     188960   \n4         а       Абакан     186797   \n...     ...          ...        ...   \n1099      я       Яранск      15475   \n1100      я    Ясногорск      15410   \n1101      я        Ясный      15249   \n1102      я       Яхрома      14056   \n1103      я        Ядрин       8170   \n\n                                        GoogleUrl  \\\n0       https://www.google.com/search?q=Астрахань   \n1     https://www.google.com/search?q=Архангельск   \n2         https://www.google.com/search?q=Ангарск   \n3         https://www.google.com/search?q=Армавир   \n4          https://www.google.com/search?q=Абакан   \n...                                           ...   \n1099       https://www.google.com/search?q=Яранск   \n1100    https://www.google.com/search?q=Ясногорск   \n1101        https://www.google.com/search?q=Ясный   \n1102       https://www.google.com/search?q=Яхрома   \n1103        https://www.google.com/search?q=Ядрин   \n\n                                       YandexUrl  \\\n0       https://yandex.ru/search/?text=Астрахань   \n1     https://yandex.ru/search/?text=Архангельск   \n2         https://yandex.ru/search/?text=Ангарск   \n3         https://yandex.ru/search/?text=Армавир   \n4          https://yandex.ru/search/?text=Абакан   \n...                                          ...   \n1099       https://yandex.ru/search/?text=Яранск   \n1100    https://yandex.ru/search/?text=Ясногорск   \n1101        https://yandex.ru/search/?text=Ясный   \n1102       https://yandex.ru/search/?text=Яхрома   \n1103        https://yandex.ru/search/?text=Ядрин   \n\n                                                WikiUrl  \\\n0               https://ru.wikipedia.org/wiki/Астрахань   \n1             https://ru.wikipedia.org/wiki/Архангельск   \n2                 https://ru.wikipedia.org/wiki/Ангарск   \n3         https://ru.wikipedia.org/wiki/Армавир_(город)   \n4                  https://ru.wikipedia.org/wiki/Абакан   \n...                                                 ...   \n1099               https://ru.wikipedia.org/wiki/Яранск   \n1100  https://ru.wikipedia.org/w/index.php?search=Яс...   \n1101                https://ru.wikipedia.org/wiki/Ясный   \n1102               https://ru.wikipedia.org/wiki/Яхрома   \n1103                https://ru.wikipedia.org/wiki/Ядрин   \n\n                                                 PicUrl  \\\n0     https://upload.wikimedia.org/wikipedia/commons...   \n1     https://upload.wikimedia.org/wikipedia/commons...   \n2     https://upload.wikimedia.org/wikipedia/commons...   \n3     https://upload.wikimedia.org/wikipedia/commons...   \n4     https://upload.wikimedia.org/wikipedia/commons...   \n...                                                 ...   \n1099  https://upload.wikimedia.org/wikipedia/commons...   \n1100                                               None   \n1101  https://upload.wikimedia.org/wikipedia/commons...   \n1102  https://upload.wikimedia.org/wikipedia/commons...   \n1103  https://upload.wikimedia.org/wikipedia/commons...   \n\n                                                 MapUrl Latitude Longitude  \\\n0     https://www.openstreetmap.org/search?query=Аст...    46.34     48.04   \n1     https://www.openstreetmap.org/search?query=Арх...     54.9     59.74   \n2     https://www.openstreetmap.org/search?query=Анг...    52.53    103.88   \n3     https://www.openstreetmap.org/search?query=Арм...    44.98     41.12   \n4     https://www.openstreetmap.org/search?query=Абакан    53.71     91.42   \n...                                                 ...      ...       ...   \n1099  https://www.openstreetmap.org/search?query=Яранск  57.2994   47.8822   \n1100  https://www.openstreetmap.org/search?query=Ясн...  54.4803   37.6975   \n1101   https://www.openstreetmap.org/search?query=Ясный  45.6139   43.5381   \n1102  https://www.openstreetmap.org/search?query=Яхрома     56.3   37.4833   \n1103   https://www.openstreetmap.org/search?query=Ядрин  55.9403    46.205   \n\n                                            WikiSummary  \n0     А́страхань — город России, административный це...  \n1     Арха́нгельск — третий по численности город на ...  \n2     Анга́рск — город в Восточной Сибири, с прилега...  \n3     Армави́р — город на юге Российской Федерации, ...  \n4     Абака́н (хак. Ағбан) — город в России. Столица...  \n...                                                 ...  \n1099  Яра́нск — город в России, административный цен...  \n1100                                                     \n1101  Я́сный — город в Оренбургской области России, ...  \n1102  Я́хрома — город (с 1940) в Дмитровском городск...  \n1103  Я́дрин, в XVIII веке Ядринск (чуваш. Етĕрне, л...  \n\n[1104 rows x 11 columns]",
      "text/html": "<div>\n<style scoped>\n    .dataframe tbody tr th:only-of-type {\n        vertical-align: middle;\n    }\n\n    .dataframe tbody tr th {\n        vertical-align: top;\n    }\n\n    .dataframe thead th {\n        text-align: right;\n    }\n</style>\n<table border=\"1\" class=\"dataframe\">\n  <thead>\n    <tr style=\"text-align: right;\">\n      <th></th>\n      <th>Letter</th>\n      <th>City</th>\n      <th>Population</th>\n      <th>GoogleUrl</th>\n      <th>YandexUrl</th>\n      <th>WikiUrl</th>\n      <th>PicUrl</th>\n      <th>MapUrl</th>\n      <th>Latitude</th>\n      <th>Longitude</th>\n      <th>WikiSummary</th>\n    </tr>\n  </thead>\n  <tbody>\n    <tr>\n      <th>0</th>\n      <td>а</td>\n      <td>Астрахань</td>\n      <td>529793</td>\n      <td>https://www.google.com/search?q=Астрахань</td>\n      <td>https://yandex.ru/search/?text=Астрахань</td>\n      <td>https://ru.wikipedia.org/wiki/Астрахань</td>\n      <td>https://upload.wikimedia.org/wikipedia/commons...</td>\n      <td>https://www.openstreetmap.org/search?query=Аст...</td>\n      <td>46.34</td>\n      <td>48.04</td>\n      <td>А́страхань — город России, административный це...</td>\n    </tr>\n    <tr>\n      <th>1</th>\n      <td>а</td>\n      <td>Архангельск</td>\n      <td>346979</td>\n      <td>https://www.google.com/search?q=Архангельск</td>\n      <td>https://yandex.ru/search/?text=Архангельск</td>\n      <td>https://ru.wikipedia.org/wiki/Архангельск</td>\n      <td>https://upload.wikimedia.org/wikipedia/commons...</td>\n      <td>https://www.openstreetmap.org/search?query=Арх...</td>\n      <td>54.9</td>\n      <td>59.74</td>\n      <td>Арха́нгельск — третий по численности город на ...</td>\n    </tr>\n    <tr>\n      <th>2</th>\n      <td>а</td>\n      <td>Ангарск</td>\n      <td>224630</td>\n      <td>https://www.google.com/search?q=Ангарск</td>\n      <td>https://yandex.ru/search/?text=Ангарск</td>\n      <td>https://ru.wikipedia.org/wiki/Ангарск</td>\n      <td>https://upload.wikimedia.org/wikipedia/commons...</td>\n      <td>https://www.openstreetmap.org/search?query=Анг...</td>\n      <td>52.53</td>\n      <td>103.88</td>\n      <td>Анга́рск — город в Восточной Сибири, с прилега...</td>\n    </tr>\n    <tr>\n      <th>3</th>\n      <td>а</td>\n      <td>Армавир</td>\n      <td>188960</td>\n      <td>https://www.google.com/search?q=Армавир</td>\n      <td>https://yandex.ru/search/?text=Армавир</td>\n      <td>https://ru.wikipedia.org/wiki/Армавир_(город)</td>\n      <td>https://upload.wikimedia.org/wikipedia/commons...</td>\n      <td>https://www.openstreetmap.org/search?query=Арм...</td>\n      <td>44.98</td>\n      <td>41.12</td>\n      <td>Армави́р — город на юге Российской Федерации, ...</td>\n    </tr>\n    <tr>\n      <th>4</th>\n      <td>а</td>\n      <td>Абакан</td>\n      <td>186797</td>\n      <td>https://www.google.com/search?q=Абакан</td>\n      <td>https://yandex.ru/search/?text=Абакан</td>\n      <td>https://ru.wikipedia.org/wiki/Абакан</td>\n      <td>https://upload.wikimedia.org/wikipedia/commons...</td>\n      <td>https://www.openstreetmap.org/search?query=Абакан</td>\n      <td>53.71</td>\n      <td>91.42</td>\n      <td>Абака́н (хак. Ағбан) — город в России. Столица...</td>\n    </tr>\n    <tr>\n      <th>...</th>\n      <td>...</td>\n      <td>...</td>\n      <td>...</td>\n      <td>...</td>\n      <td>...</td>\n      <td>...</td>\n      <td>...</td>\n      <td>...</td>\n      <td>...</td>\n      <td>...</td>\n      <td>...</td>\n    </tr>\n    <tr>\n      <th>1099</th>\n      <td>я</td>\n      <td>Яранск</td>\n      <td>15475</td>\n      <td>https://www.google.com/search?q=Яранск</td>\n      <td>https://yandex.ru/search/?text=Яранск</td>\n      <td>https://ru.wikipedia.org/wiki/Яранск</td>\n      <td>https://upload.wikimedia.org/wikipedia/commons...</td>\n      <td>https://www.openstreetmap.org/search?query=Яранск</td>\n      <td>57.2994</td>\n      <td>47.8822</td>\n      <td>Яра́нск — город в России, административный цен...</td>\n    </tr>\n    <tr>\n      <th>1100</th>\n      <td>я</td>\n      <td>Ясногорск</td>\n      <td>15410</td>\n      <td>https://www.google.com/search?q=Ясногорск</td>\n      <td>https://yandex.ru/search/?text=Ясногорск</td>\n      <td>https://ru.wikipedia.org/w/index.php?search=Яс...</td>\n      <td>None</td>\n      <td>https://www.openstreetmap.org/search?query=Ясн...</td>\n      <td>54.4803</td>\n      <td>37.6975</td>\n      <td></td>\n    </tr>\n    <tr>\n      <th>1101</th>\n      <td>я</td>\n      <td>Ясный</td>\n      <td>15249</td>\n      <td>https://www.google.com/search?q=Ясный</td>\n      <td>https://yandex.ru/search/?text=Ясный</td>\n      <td>https://ru.wikipedia.org/wiki/Ясный</td>\n      <td>https://upload.wikimedia.org/wikipedia/commons...</td>\n      <td>https://www.openstreetmap.org/search?query=Ясный</td>\n      <td>45.6139</td>\n      <td>43.5381</td>\n      <td>Я́сный — город в Оренбургской области России, ...</td>\n    </tr>\n    <tr>\n      <th>1102</th>\n      <td>я</td>\n      <td>Яхрома</td>\n      <td>14056</td>\n      <td>https://www.google.com/search?q=Яхрома</td>\n      <td>https://yandex.ru/search/?text=Яхрома</td>\n      <td>https://ru.wikipedia.org/wiki/Яхрома</td>\n      <td>https://upload.wikimedia.org/wikipedia/commons...</td>\n      <td>https://www.openstreetmap.org/search?query=Яхрома</td>\n      <td>56.3</td>\n      <td>37.4833</td>\n      <td>Я́хрома — город (с 1940) в Дмитровском городск...</td>\n    </tr>\n    <tr>\n      <th>1103</th>\n      <td>я</td>\n      <td>Ядрин</td>\n      <td>8170</td>\n      <td>https://www.google.com/search?q=Ядрин</td>\n      <td>https://yandex.ru/search/?text=Ядрин</td>\n      <td>https://ru.wikipedia.org/wiki/Ядрин</td>\n      <td>https://upload.wikimedia.org/wikipedia/commons...</td>\n      <td>https://www.openstreetmap.org/search?query=Ядрин</td>\n      <td>55.9403</td>\n      <td>46.205</td>\n      <td>Я́дрин, в XVIII веке Ядринск (чуваш. Етĕрне, л...</td>\n    </tr>\n  </tbody>\n</table>\n<p>1104 rows × 11 columns</p>\n</div>"
     },
     "execution_count": 49,
     "metadata": {},
     "output_type": "execute_result"
    }
   ],
   "source": [
    "c = pd.Series(results, name='WikiSummary')\n",
    "df = pd.concat([df, c], axis=1)\n",
    "df"
   ],
   "metadata": {
    "collapsed": false,
    "pycharm": {
     "name": "#%%\n"
    }
   }
  },
  {
   "cell_type": "code",
   "execution_count": 50,
   "outputs": [
    {
     "data": {
      "text/plain": "     Letter         City Population  \\\n17        а        Аксай      46018   \n68        б          Бор      76872   \n73        б    Белогорск      65315   \n78        б  Березовский      59030   \n104       б       Буинск      20416   \n...     ...          ...        ...   \n1001      у    Углегорск       8710   \n1008      ф       Фокино      12759   \n1045      ч     Чкаловск      11345   \n1075      щ        Щучье       9476   \n1100      я    Ясногорск      15410   \n\n                                        GoogleUrl  \\\n17          https://www.google.com/search?q=Аксай   \n68            https://www.google.com/search?q=Бор   \n73      https://www.google.com/search?q=Белогорск   \n78    https://www.google.com/search?q=Березовский   \n104        https://www.google.com/search?q=Буинск   \n...                                           ...   \n1001    https://www.google.com/search?q=Углегорск   \n1008       https://www.google.com/search?q=Фокино   \n1045     https://www.google.com/search?q=Чкаловск   \n1075        https://www.google.com/search?q=Щучье   \n1100    https://www.google.com/search?q=Ясногорск   \n\n                                       YandexUrl  \\\n17          https://yandex.ru/search/?text=Аксай   \n68            https://yandex.ru/search/?text=Бор   \n73      https://yandex.ru/search/?text=Белогорск   \n78    https://yandex.ru/search/?text=Березовский   \n104        https://yandex.ru/search/?text=Буинск   \n...                                          ...   \n1001    https://yandex.ru/search/?text=Углегорск   \n1008       https://yandex.ru/search/?text=Фокино   \n1045     https://yandex.ru/search/?text=Чкаловск   \n1075        https://yandex.ru/search/?text=Щучье   \n1100    https://yandex.ru/search/?text=Ясногорск   \n\n                                                WikiUrl PicUrl  \\\n17    https://ru.wikipedia.org/w/index.php?search=Аксай   None   \n68      https://ru.wikipedia.org/w/index.php?search=Бор   None   \n73    https://ru.wikipedia.org/w/index.php?search=Бе...   None   \n78    https://ru.wikipedia.org/w/index.php?search=Бе...   None   \n104   https://ru.wikipedia.org/w/index.php?search=Бу...   None   \n...                                                 ...    ...   \n1001  https://ru.wikipedia.org/w/index.php?search=Уг...   None   \n1008  https://ru.wikipedia.org/w/index.php?search=Фо...   None   \n1045  https://ru.wikipedia.org/w/index.php?search=Чк...   None   \n1075  https://ru.wikipedia.org/w/index.php?search=Щучье   None   \n1100  https://ru.wikipedia.org/w/index.php?search=Яс...   None   \n\n                                                 MapUrl Latitude Longitude  \\\n17     https://www.openstreetmap.org/search?query=Аксай    47.95     43.97   \n68       https://www.openstreetmap.org/search?query=Бор  56.3567   44.0669   \n73    https://www.openstreetmap.org/search?query=Бел...  50.9158  128.4611   \n78    https://www.openstreetmap.org/search?query=Бер...    45.47     43.33   \n104   https://www.openstreetmap.org/search?query=Буинск    54.95   48.2833   \n...                                                 ...      ...       ...   \n1001  https://www.openstreetmap.org/search?query=Угл...  49.0833  142.0333   \n1008  https://www.openstreetmap.org/search?query=Фокино  57.4144   49.0486   \n1045  https://www.openstreetmap.org/search?query=Чка...  56.7647   43.2433   \n1075   https://www.openstreetmap.org/search?query=Щучье  51.7597   40.4875   \n1100  https://www.openstreetmap.org/search?query=Ясн...  54.4803   37.6975   \n\n     WikiSummary  \n17                \n68                \n73                \n78                \n104               \n...          ...  \n1001              \n1008              \n1045              \n1075              \n1100              \n\n[64 rows x 11 columns]",
      "text/html": "<div>\n<style scoped>\n    .dataframe tbody tr th:only-of-type {\n        vertical-align: middle;\n    }\n\n    .dataframe tbody tr th {\n        vertical-align: top;\n    }\n\n    .dataframe thead th {\n        text-align: right;\n    }\n</style>\n<table border=\"1\" class=\"dataframe\">\n  <thead>\n    <tr style=\"text-align: right;\">\n      <th></th>\n      <th>Letter</th>\n      <th>City</th>\n      <th>Population</th>\n      <th>GoogleUrl</th>\n      <th>YandexUrl</th>\n      <th>WikiUrl</th>\n      <th>PicUrl</th>\n      <th>MapUrl</th>\n      <th>Latitude</th>\n      <th>Longitude</th>\n      <th>WikiSummary</th>\n    </tr>\n  </thead>\n  <tbody>\n    <tr>\n      <th>17</th>\n      <td>а</td>\n      <td>Аксай</td>\n      <td>46018</td>\n      <td>https://www.google.com/search?q=Аксай</td>\n      <td>https://yandex.ru/search/?text=Аксай</td>\n      <td>https://ru.wikipedia.org/w/index.php?search=Аксай</td>\n      <td>None</td>\n      <td>https://www.openstreetmap.org/search?query=Аксай</td>\n      <td>47.95</td>\n      <td>43.97</td>\n      <td></td>\n    </tr>\n    <tr>\n      <th>68</th>\n      <td>б</td>\n      <td>Бор</td>\n      <td>76872</td>\n      <td>https://www.google.com/search?q=Бор</td>\n      <td>https://yandex.ru/search/?text=Бор</td>\n      <td>https://ru.wikipedia.org/w/index.php?search=Бор</td>\n      <td>None</td>\n      <td>https://www.openstreetmap.org/search?query=Бор</td>\n      <td>56.3567</td>\n      <td>44.0669</td>\n      <td></td>\n    </tr>\n    <tr>\n      <th>73</th>\n      <td>б</td>\n      <td>Белогорск</td>\n      <td>65315</td>\n      <td>https://www.google.com/search?q=Белогорск</td>\n      <td>https://yandex.ru/search/?text=Белогорск</td>\n      <td>https://ru.wikipedia.org/w/index.php?search=Бе...</td>\n      <td>None</td>\n      <td>https://www.openstreetmap.org/search?query=Бел...</td>\n      <td>50.9158</td>\n      <td>128.4611</td>\n      <td></td>\n    </tr>\n    <tr>\n      <th>78</th>\n      <td>б</td>\n      <td>Березовский</td>\n      <td>59030</td>\n      <td>https://www.google.com/search?q=Березовский</td>\n      <td>https://yandex.ru/search/?text=Березовский</td>\n      <td>https://ru.wikipedia.org/w/index.php?search=Бе...</td>\n      <td>None</td>\n      <td>https://www.openstreetmap.org/search?query=Бер...</td>\n      <td>45.47</td>\n      <td>43.33</td>\n      <td></td>\n    </tr>\n    <tr>\n      <th>104</th>\n      <td>б</td>\n      <td>Буинск</td>\n      <td>20416</td>\n      <td>https://www.google.com/search?q=Буинск</td>\n      <td>https://yandex.ru/search/?text=Буинск</td>\n      <td>https://ru.wikipedia.org/w/index.php?search=Бу...</td>\n      <td>None</td>\n      <td>https://www.openstreetmap.org/search?query=Буинск</td>\n      <td>54.95</td>\n      <td>48.2833</td>\n      <td></td>\n    </tr>\n    <tr>\n      <th>...</th>\n      <td>...</td>\n      <td>...</td>\n      <td>...</td>\n      <td>...</td>\n      <td>...</td>\n      <td>...</td>\n      <td>...</td>\n      <td>...</td>\n      <td>...</td>\n      <td>...</td>\n      <td>...</td>\n    </tr>\n    <tr>\n      <th>1001</th>\n      <td>у</td>\n      <td>Углегорск</td>\n      <td>8710</td>\n      <td>https://www.google.com/search?q=Углегорск</td>\n      <td>https://yandex.ru/search/?text=Углегорск</td>\n      <td>https://ru.wikipedia.org/w/index.php?search=Уг...</td>\n      <td>None</td>\n      <td>https://www.openstreetmap.org/search?query=Угл...</td>\n      <td>49.0833</td>\n      <td>142.0333</td>\n      <td></td>\n    </tr>\n    <tr>\n      <th>1008</th>\n      <td>ф</td>\n      <td>Фокино</td>\n      <td>12759</td>\n      <td>https://www.google.com/search?q=Фокино</td>\n      <td>https://yandex.ru/search/?text=Фокино</td>\n      <td>https://ru.wikipedia.org/w/index.php?search=Фо...</td>\n      <td>None</td>\n      <td>https://www.openstreetmap.org/search?query=Фокино</td>\n      <td>57.4144</td>\n      <td>49.0486</td>\n      <td></td>\n    </tr>\n    <tr>\n      <th>1045</th>\n      <td>ч</td>\n      <td>Чкаловск</td>\n      <td>11345</td>\n      <td>https://www.google.com/search?q=Чкаловск</td>\n      <td>https://yandex.ru/search/?text=Чкаловск</td>\n      <td>https://ru.wikipedia.org/w/index.php?search=Чк...</td>\n      <td>None</td>\n      <td>https://www.openstreetmap.org/search?query=Чка...</td>\n      <td>56.7647</td>\n      <td>43.2433</td>\n      <td></td>\n    </tr>\n    <tr>\n      <th>1075</th>\n      <td>щ</td>\n      <td>Щучье</td>\n      <td>9476</td>\n      <td>https://www.google.com/search?q=Щучье</td>\n      <td>https://yandex.ru/search/?text=Щучье</td>\n      <td>https://ru.wikipedia.org/w/index.php?search=Щучье</td>\n      <td>None</td>\n      <td>https://www.openstreetmap.org/search?query=Щучье</td>\n      <td>51.7597</td>\n      <td>40.4875</td>\n      <td></td>\n    </tr>\n    <tr>\n      <th>1100</th>\n      <td>я</td>\n      <td>Ясногорск</td>\n      <td>15410</td>\n      <td>https://www.google.com/search?q=Ясногорск</td>\n      <td>https://yandex.ru/search/?text=Ясногорск</td>\n      <td>https://ru.wikipedia.org/w/index.php?search=Яс...</td>\n      <td>None</td>\n      <td>https://www.openstreetmap.org/search?query=Ясн...</td>\n      <td>54.4803</td>\n      <td>37.6975</td>\n      <td></td>\n    </tr>\n  </tbody>\n</table>\n<p>64 rows × 11 columns</p>\n</div>"
     },
     "execution_count": 50,
     "metadata": {},
     "output_type": "execute_result"
    }
   ],
   "source": [
    "df.loc[df['WikiSummary'] == \"\"]"
   ],
   "metadata": {
    "collapsed": false,
    "pycharm": {
     "name": "#%%\n"
    }
   }
  },
  {
   "cell_type": "code",
   "execution_count": 51,
   "outputs": [],
   "source": [
    "df.to_csv('Database/NewDatabase.csv')"
   ],
   "metadata": {
    "collapsed": false,
    "pycharm": {
     "name": "#%%\n"
    }
   }
  },
  {
   "cell_type": "code",
   "execution_count": null,
   "outputs": [],
   "source": [],
   "metadata": {
    "collapsed": false,
    "pycharm": {
     "name": "#%%\n"
    }
   }
  }
 ],
 "metadata": {
  "kernelspec": {
   "display_name": "Python 3",
   "language": "python",
   "name": "python3"
  },
  "language_info": {
   "codemirror_mode": {
    "name": "ipython",
    "version": 2
   },
   "file_extension": ".py",
   "mimetype": "text/x-python",
   "name": "python",
   "nbconvert_exporter": "python",
   "pygments_lexer": "ipython2",
   "version": "2.7.6"
  }
 },
 "nbformat": 4,
 "nbformat_minor": 0
}